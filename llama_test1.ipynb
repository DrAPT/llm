{
 "cells": [
  {
   "cell_type": "markdown",
   "id": "dbd33295-7d5e-486c-9632-8b16b196b6d5",
   "metadata": {},
   "source": [
    "### Using Ollama with Python\r\n",
    "LiteLLM is a Python library that provides a unified interface to interact with various LLMs, including those run by Ollama.\n",
    "\n",
    "To use Ollama with LiteLLM, you first need to ensure that your Ollama server is running. Then, you can use the litellm.completion function to make requests to the server. Here's an example of how to do this:\n"
   ]
  },
  {
   "cell_type": "code",
   "execution_count": 1,
   "id": "efb0eae2-01e7-4566-8c51-166b6ffa2b7d",
   "metadata": {
    "collapsed": true,
    "jupyter": {
     "outputs_hidden": true
    }
   },
   "outputs": [
    {
     "name": "stdout",
     "output_type": "stream",
     "text": [
      "Collecting litellm\n",
      "  Downloading litellm-1.60.0-py3-none-any.whl.metadata (36 kB)\n",
      "Requirement already satisfied: aiohttp in c:\\users\\apt4c\\anaconda3\\lib\\site-packages (from litellm) (3.9.5)\n",
      "Requirement already satisfied: click in c:\\users\\apt4c\\anaconda3\\lib\\site-packages (from litellm) (8.1.7)\n",
      "Collecting httpx<0.28.0,>=0.23.0 (from litellm)\n",
      "  Downloading httpx-0.27.2-py3-none-any.whl.metadata (7.1 kB)\n",
      "Requirement already satisfied: importlib-metadata>=6.8.0 in c:\\users\\apt4c\\anaconda3\\lib\\site-packages (from litellm) (7.0.1)\n",
      "Requirement already satisfied: jinja2<4.0.0,>=3.1.2 in c:\\users\\apt4c\\anaconda3\\lib\\site-packages (from litellm) (3.1.4)\n",
      "Collecting jsonschema<5.0.0,>=4.22.0 (from litellm)\n",
      "  Downloading jsonschema-4.23.0-py3-none-any.whl.metadata (7.9 kB)\n",
      "Collecting openai>=1.55.3 (from litellm)\n",
      "  Downloading openai-1.61.0-py3-none-any.whl.metadata (27 kB)\n",
      "Requirement already satisfied: pydantic<3.0.0,>=2.0.0 in c:\\users\\apt4c\\anaconda3\\lib\\site-packages (from litellm) (2.5.3)\n",
      "Requirement already satisfied: python-dotenv>=0.2.0 in c:\\users\\apt4c\\anaconda3\\lib\\site-packages (from litellm) (0.21.0)\n",
      "Collecting tiktoken>=0.7.0 (from litellm)\n",
      "  Downloading tiktoken-0.8.0-cp312-cp312-win_amd64.whl.metadata (6.8 kB)\n",
      "Collecting tokenizers (from litellm)\n",
      "  Downloading tokenizers-0.21.0-cp39-abi3-win_amd64.whl.metadata (6.9 kB)\n",
      "Requirement already satisfied: anyio in c:\\users\\apt4c\\anaconda3\\lib\\site-packages (from httpx<0.28.0,>=0.23.0->litellm) (4.2.0)\n",
      "Requirement already satisfied: certifi in c:\\users\\apt4c\\anaconda3\\lib\\site-packages (from httpx<0.28.0,>=0.23.0->litellm) (2024.6.2)\n",
      "Requirement already satisfied: httpcore==1.* in c:\\users\\apt4c\\anaconda3\\lib\\site-packages (from httpx<0.28.0,>=0.23.0->litellm) (1.0.7)\n",
      "Requirement already satisfied: idna in c:\\users\\apt4c\\anaconda3\\lib\\site-packages (from httpx<0.28.0,>=0.23.0->litellm) (3.7)\n",
      "Requirement already satisfied: sniffio in c:\\users\\apt4c\\anaconda3\\lib\\site-packages (from httpx<0.28.0,>=0.23.0->litellm) (1.3.0)\n",
      "Requirement already satisfied: h11<0.15,>=0.13 in c:\\users\\apt4c\\anaconda3\\lib\\site-packages (from httpcore==1.*->httpx<0.28.0,>=0.23.0->litellm) (0.14.0)\n",
      "Requirement already satisfied: zipp>=0.5 in c:\\users\\apt4c\\anaconda3\\lib\\site-packages (from importlib-metadata>=6.8.0->litellm) (3.17.0)\n",
      "Requirement already satisfied: MarkupSafe>=2.0 in c:\\users\\apt4c\\anaconda3\\lib\\site-packages (from jinja2<4.0.0,>=3.1.2->litellm) (2.1.3)\n",
      "Requirement already satisfied: attrs>=22.2.0 in c:\\users\\apt4c\\anaconda3\\lib\\site-packages (from jsonschema<5.0.0,>=4.22.0->litellm) (23.1.0)\n",
      "Requirement already satisfied: jsonschema-specifications>=2023.03.6 in c:\\users\\apt4c\\anaconda3\\lib\\site-packages (from jsonschema<5.0.0,>=4.22.0->litellm) (2023.7.1)\n",
      "Requirement already satisfied: referencing>=0.28.4 in c:\\users\\apt4c\\anaconda3\\lib\\site-packages (from jsonschema<5.0.0,>=4.22.0->litellm) (0.30.2)\n",
      "Requirement already satisfied: rpds-py>=0.7.1 in c:\\users\\apt4c\\anaconda3\\lib\\site-packages (from jsonschema<5.0.0,>=4.22.0->litellm) (0.10.6)\n",
      "Requirement already satisfied: distro<2,>=1.7.0 in c:\\users\\apt4c\\anaconda3\\lib\\site-packages (from openai>=1.55.3->litellm) (1.9.0)\n",
      "Collecting jiter<1,>=0.4.0 (from openai>=1.55.3->litellm)\n",
      "  Downloading jiter-0.8.2-cp312-cp312-win_amd64.whl.metadata (5.3 kB)\n",
      "Requirement already satisfied: tqdm>4 in c:\\users\\apt4c\\anaconda3\\lib\\site-packages (from openai>=1.55.3->litellm) (4.66.4)\n",
      "Requirement already satisfied: typing-extensions<5,>=4.11 in c:\\users\\apt4c\\anaconda3\\lib\\site-packages (from openai>=1.55.3->litellm) (4.11.0)\n",
      "Requirement already satisfied: annotated-types>=0.4.0 in c:\\users\\apt4c\\anaconda3\\lib\\site-packages (from pydantic<3.0.0,>=2.0.0->litellm) (0.6.0)\n",
      "Requirement already satisfied: pydantic-core==2.14.6 in c:\\users\\apt4c\\anaconda3\\lib\\site-packages (from pydantic<3.0.0,>=2.0.0->litellm) (2.14.6)\n",
      "Requirement already satisfied: regex>=2022.1.18 in c:\\users\\apt4c\\anaconda3\\lib\\site-packages (from tiktoken>=0.7.0->litellm) (2023.10.3)\n",
      "Requirement already satisfied: requests>=2.26.0 in c:\\users\\apt4c\\anaconda3\\lib\\site-packages (from tiktoken>=0.7.0->litellm) (2.32.2)\n",
      "Requirement already satisfied: aiosignal>=1.1.2 in c:\\users\\apt4c\\anaconda3\\lib\\site-packages (from aiohttp->litellm) (1.2.0)\n",
      "Requirement already satisfied: frozenlist>=1.1.1 in c:\\users\\apt4c\\anaconda3\\lib\\site-packages (from aiohttp->litellm) (1.4.0)\n",
      "Requirement already satisfied: multidict<7.0,>=4.5 in c:\\users\\apt4c\\anaconda3\\lib\\site-packages (from aiohttp->litellm) (6.0.4)\n",
      "Requirement already satisfied: yarl<2.0,>=1.0 in c:\\users\\apt4c\\anaconda3\\lib\\site-packages (from aiohttp->litellm) (1.9.3)\n",
      "Requirement already satisfied: colorama in c:\\users\\apt4c\\anaconda3\\lib\\site-packages (from click->litellm) (0.4.6)\n",
      "Collecting huggingface-hub<1.0,>=0.16.4 (from tokenizers->litellm)\n",
      "  Downloading huggingface_hub-0.28.1-py3-none-any.whl.metadata (13 kB)\n",
      "Requirement already satisfied: filelock in c:\\users\\apt4c\\anaconda3\\lib\\site-packages (from huggingface-hub<1.0,>=0.16.4->tokenizers->litellm) (3.13.1)\n",
      "Requirement already satisfied: fsspec>=2023.5.0 in c:\\users\\apt4c\\anaconda3\\lib\\site-packages (from huggingface-hub<1.0,>=0.16.4->tokenizers->litellm) (2024.3.1)\n",
      "Requirement already satisfied: packaging>=20.9 in c:\\users\\apt4c\\anaconda3\\lib\\site-packages (from huggingface-hub<1.0,>=0.16.4->tokenizers->litellm) (23.2)\n",
      "Requirement already satisfied: pyyaml>=5.1 in c:\\users\\apt4c\\anaconda3\\lib\\site-packages (from huggingface-hub<1.0,>=0.16.4->tokenizers->litellm) (6.0.1)\n",
      "Requirement already satisfied: charset-normalizer<4,>=2 in c:\\users\\apt4c\\anaconda3\\lib\\site-packages (from requests>=2.26.0->tiktoken>=0.7.0->litellm) (2.0.4)\n",
      "Requirement already satisfied: urllib3<3,>=1.21.1 in c:\\users\\apt4c\\anaconda3\\lib\\site-packages (from requests>=2.26.0->tiktoken>=0.7.0->litellm) (2.2.2)\n",
      "Downloading litellm-1.60.0-py3-none-any.whl (6.7 MB)\n",
      "   ---------------------------------------- 0.0/6.7 MB ? eta -:--:--\n",
      "    --------------------------------------- 0.1/6.7 MB 2.2 MB/s eta 0:00:04\n",
      "   - -------------------------------------- 0.3/6.7 MB 2.6 MB/s eta 0:00:03\n",
      "   --- ------------------------------------ 0.5/6.7 MB 3.7 MB/s eta 0:00:02\n",
      "   ----- ---------------------------------- 0.9/6.7 MB 4.6 MB/s eta 0:00:02\n",
      "   ------- -------------------------------- 1.3/6.7 MB 5.2 MB/s eta 0:00:02\n",
      "   --------- ------------------------------ 1.6/6.7 MB 5.3 MB/s eta 0:00:01\n",
      "   ----------- ---------------------------- 1.9/6.7 MB 5.5 MB/s eta 0:00:01\n",
      "   ------------ --------------------------- 2.2/6.7 MB 5.8 MB/s eta 0:00:01\n",
      "   --------------- ------------------------ 2.6/6.7 MB 6.1 MB/s eta 0:00:01\n",
      "   ----------------- ---------------------- 2.9/6.7 MB 6.1 MB/s eta 0:00:01\n",
      "   ------------------ --------------------- 3.2/6.7 MB 6.1 MB/s eta 0:00:01\n",
      "   ------------------- -------------------- 3.4/6.7 MB 6.1 MB/s eta 0:00:01\n",
      "   ---------------------- ----------------- 3.8/6.7 MB 6.2 MB/s eta 0:00:01\n",
      "   ----------------------- ---------------- 4.0/6.7 MB 6.1 MB/s eta 0:00:01\n",
      "   ------------------------- -------------- 4.3/6.7 MB 6.0 MB/s eta 0:00:01\n",
      "   --------------------------- ------------ 4.6/6.7 MB 6.1 MB/s eta 0:00:01\n",
      "   ----------------------------- ---------- 4.9/6.7 MB 6.2 MB/s eta 0:00:01\n",
      "   ------------------------------- -------- 5.3/6.7 MB 6.3 MB/s eta 0:00:01\n",
      "   --------------------------------- ------ 5.7/6.7 MB 6.4 MB/s eta 0:00:01\n",
      "   ----------------------------------- ---- 6.0/6.7 MB 6.4 MB/s eta 0:00:01\n",
      "   ------------------------------------- -- 6.3/6.7 MB 6.4 MB/s eta 0:00:01\n",
      "   -------------------------------------- - 6.6/6.7 MB 6.4 MB/s eta 0:00:01\n",
      "   ---------------------------------------  6.7/6.7 MB 6.3 MB/s eta 0:00:01\n",
      "   ---------------------------------------- 6.7/6.7 MB 6.1 MB/s eta 0:00:00\n",
      "Downloading httpx-0.27.2-py3-none-any.whl (76 kB)\n",
      "   ---------------------------------------- 0.0/76.4 kB ? eta -:--:--\n",
      "   ---------------------------------------- 76.4/76.4 kB 4.1 MB/s eta 0:00:00\n",
      "Downloading jsonschema-4.23.0-py3-none-any.whl (88 kB)\n",
      "   ---------------------------------------- 0.0/88.5 kB ? eta -:--:--\n",
      "   ---------------------------------------- 88.5/88.5 kB 2.5 MB/s eta 0:00:00\n",
      "Downloading openai-1.61.0-py3-none-any.whl (460 kB)\n",
      "   ---------------------------------------- 0.0/460.6 kB ? eta -:--:--\n",
      "   -------------------- ------------------- 235.5/460.6 kB 4.8 MB/s eta 0:00:01\n",
      "   ---------------------------------------  450.6/460.6 kB 5.6 MB/s eta 0:00:01\n",
      "   ---------------------------------------- 460.6/460.6 kB 4.1 MB/s eta 0:00:00\n",
      "Downloading tiktoken-0.8.0-cp312-cp312-win_amd64.whl (883 kB)\n",
      "   ---------------------------------------- 0.0/883.8 kB ? eta -:--:--\n",
      "   ------------ --------------------------- 276.5/883.8 kB 8.6 MB/s eta 0:00:01\n",
      "   ------------------------- -------------- 553.0/883.8 kB 5.8 MB/s eta 0:00:01\n",
      "   ---------------------------------------  880.6/883.8 kB 7.0 MB/s eta 0:00:01\n",
      "   ---------------------------------------- 883.8/883.8 kB 6.2 MB/s eta 0:00:00\n",
      "Downloading tokenizers-0.21.0-cp39-abi3-win_amd64.whl (2.4 MB)\n",
      "   ---------------------------------------- 0.0/2.4 MB ? eta -:--:--\n",
      "   ----- ---------------------------------- 0.3/2.4 MB 10.9 MB/s eta 0:00:01\n",
      "   ----------- ---------------------------- 0.7/2.4 MB 8.4 MB/s eta 0:00:01\n",
      "   --------------- ------------------------ 0.9/2.4 MB 6.4 MB/s eta 0:00:01\n",
      "   -------------------------- ------------- 1.6/2.4 MB 9.2 MB/s eta 0:00:01\n",
      "   --------------------------------- ------ 2.0/2.4 MB 8.6 MB/s eta 0:00:01\n",
      "   ---------------------------------------  2.3/2.4 MB 8.8 MB/s eta 0:00:01\n",
      "   ---------------------------------------- 2.4/2.4 MB 8.0 MB/s eta 0:00:00\n",
      "Downloading huggingface_hub-0.28.1-py3-none-any.whl (464 kB)\n",
      "   ---------------------------------------- 0.0/464.1 kB ? eta -:--:--\n",
      "   ------------------------ --------------- 286.7/464.1 kB 8.6 MB/s eta 0:00:01\n",
      "   ---------------------------------------- 464.1/464.1 kB 7.2 MB/s eta 0:00:00\n",
      "Downloading jiter-0.8.2-cp312-cp312-win_amd64.whl (204 kB)\n",
      "   ---------------------------------------- 0.0/204.7 kB ? eta -:--:--\n",
      "   ---------------------------------------- 204.7/204.7 kB 6.3 MB/s eta 0:00:00\n",
      "Installing collected packages: jiter, tiktoken, huggingface-hub, httpx, tokenizers, openai, jsonschema, litellm\n",
      "  Attempting uninstall: httpx\n",
      "    Found existing installation: httpx 0.28.1\n",
      "    Uninstalling httpx-0.28.1:\n",
      "      Successfully uninstalled httpx-0.28.1\n",
      "  Attempting uninstall: jsonschema\n",
      "    Found existing installation: jsonschema 4.19.2\n",
      "    Uninstalling jsonschema-4.19.2:\n",
      "      Successfully uninstalled jsonschema-4.19.2\n",
      "Successfully installed httpx-0.27.2 huggingface-hub-0.28.1 jiter-0.8.2 jsonschema-4.23.0 litellm-1.60.0 openai-1.61.0 tiktoken-0.8.0 tokenizers-0.21.0\n"
     ]
    }
   ],
   "source": [
    "! pip install litellm"
   ]
  },
  {
   "cell_type": "code",
   "execution_count": 2,
   "id": "5dafe119-3446-41a9-8663-6e86b3daa0e8",
   "metadata": {},
   "outputs": [],
   "source": [
    "! pip install ollama"
   ]
  },
  {
   "cell_type": "code",
   "execution_count": 1,
   "id": "706f33fa-726b-44ad-a9b1-99f8825516bf",
   "metadata": {},
   "outputs": [
    {
     "name": "stderr",
     "output_type": "stream",
     "text": [
      "C:\\Users\\apt4c\\anaconda3\\Lib\\site-packages\\pydantic\\_internal\\_config.py:345: UserWarning: Valid config keys have changed in V2:\n",
      "* 'fields' has been removed\n",
      "  warnings.warn(message, UserWarning)\n"
     ]
    }
   ],
   "source": [
    "from litellm import completion"
   ]
  },
  {
   "cell_type": "markdown",
   "id": "6ef0ec49-cc45-4993-b142-cb783785563e",
   "metadata": {},
   "source": [
    "#### Prompt the model"
   ]
  },
  {
   "cell_type": "code",
   "execution_count": 2,
   "id": "80e9c558-9386-4db6-b7a1-6290702f2c59",
   "metadata": {},
   "outputs": [
    {
     "name": "stdout",
     "output_type": "stream",
     "text": [
      "Great question! When deciding between a sales executive role and a sales enablement role, there are several factors to consider. Here are some key differences between the two roles that may help you make your decision:\n",
      "\n",
      "Sales Executive Role:\n",
      "\n",
      "* Focuses on closing deals and meeting sales targets\n",
      "* Involves working directly with customers to understand their needs and close sales\n",
      "* Typically involves a high level of commission-based compensation\n",
      "* May require a more aggressive and pressure-driven approach to sales\n",
      "\n",
      "Sales Enablement Role:\n",
      "\n",
      "* Focuses on providing support and resources to sales teams to help them close deals more effectively\n",
      "* Involves creating and delivering training programs, content, and tools to help sales teams improve their skills and product knowledge\n",
      "* Typically involves a different compensation structure, such as salary + bonus or commission-based\n",
      "* May require a more collaborative and supportive approach to sales\n",
      "\n",
      "Here are some factors to consider when deciding between these two roles:\n",
      "\n",
      "1. Sales Experience: If you have extensive experience in sales and enjoy the fast-paced nature of the role, then a sales executive position may be the better fit for you. However, if you're looking to transition into a more supportive role or want to develop your skills in a different area of the business, then a sales enablement role could be a good choice.\n",
      "2. Compensation: Sales executives typically earn higher commissions than sales enablement professionals, so if financial compensation is a major factor in your decision-making, this may be a consideration.\n",
      "3. Work Environment: Sales executives often work directly with customers and may spend more time on the road or in client meetings. Sales enablement roles, on the other hand, tend to involve more office work and collaboration with internal teams.\n",
      "4. Career Growth: If you're looking for a role that offers more opportunities for career growth and advancement, then a sales executive position may provide more opportunities for professional development. However, if you're interested in developing your skills in a specific area of the business, such as training or content creation, then a sales enablement role could offer more opportunities for growth.\n",
      "5. Personal Interests: Think about what aspects of the job align with your personal interests and strengths. If you enjoy working directly with customers and closing deals, then a sales executive role may be the better fit. However, if you're interested in developing training programs or creating content to help others succeed, then a sales enablement role could be more fulfilling.\n",
      "\n",
      "Ultimately, the decision between these two roles will depend on your individual goals, skills, and preferences. It's important to consider what aspects of the job align with your personal interests and strengths, as well as what type of work environment and compensation structure you prefer.\n"
     ]
    }
   ],
   "source": [
    "response = completion(\n",
    "model=\"ollama/llama2\",\n",
    "messages=[{ \"content\": \"What should I consider when deciding between a sales executive role and a sales enablement role?\", \"role\": \"user\"}],\n",
    "api_base=\"http://localhost:11434\"\n",
    ")\n",
    "\n",
    "print(response.choices[0].message.content)"
   ]
  },
  {
   "cell_type": "markdown",
   "id": "9960af95-99ce-4162-b25d-8553a5792520",
   "metadata": {},
   "source": [
    "---\n",
    "\n",
    "#### RAG\n",
    "\n",
    "Source: https://www.datacamp.com/tutorial/deepseek-r1-ollama"
   ]
  },
  {
   "cell_type": "markdown",
   "id": "18cf74b2-b22c-4158-a618-2e34304f5f12",
   "metadata": {},
   "source": [
    "Install dependencies\n",
    "\n",
    "*gradio* for UI  \n",
    "*langchain* for tool integration  \n",
    "*chromadb* for vector database"
   ]
  },
  {
   "cell_type": "code",
   "execution_count": 40,
   "id": "593f1117-bf16-4cd1-b5bd-a4b176b91ad2",
   "metadata": {
    "collapsed": true,
    "jupyter": {
     "outputs_hidden": true
    }
   },
   "outputs": [
    {
     "name": "stdout",
     "output_type": "stream",
     "text": [
      "Requirement already satisfied: pydantic in c:\\users\\apt4c\\anaconda3\\lib\\site-packages (2.7.4)\n",
      "Collecting pydantic\n",
      "  Using cached pydantic-2.10.6-py3-none-any.whl.metadata (30 kB)\n",
      "Requirement already satisfied: pydantic_core in c:\\users\\apt4c\\anaconda3\\lib\\site-packages (2.18.4)\n",
      "Collecting pydantic_core\n",
      "  Downloading pydantic_core-2.28.0-cp312-cp312-win_amd64.whl.metadata (6.7 kB)\n",
      "Requirement already satisfied: annotated-types>=0.6.0 in c:\\users\\apt4c\\anaconda3\\lib\\site-packages (from pydantic) (0.6.0)\n",
      "  Using cached pydantic_core-2.27.2-cp312-cp312-win_amd64.whl.metadata (6.7 kB)\n",
      "Requirement already satisfied: typing-extensions>=4.12.2 in c:\\users\\apt4c\\anaconda3\\lib\\site-packages (from pydantic) (4.12.2)\n",
      "Using cached pydantic-2.10.6-py3-none-any.whl (431 kB)\n",
      "Using cached pydantic_core-2.27.2-cp312-cp312-win_amd64.whl (2.0 MB)\n",
      "Installing collected packages: pydantic_core, pydantic\n",
      "  Attempting uninstall: pydantic_core\n",
      "    Found existing installation: pydantic_core 2.18.4\n",
      "    Uninstalling pydantic_core-2.18.4:\n",
      "      Successfully uninstalled pydantic_core-2.18.4\n",
      "  Attempting uninstall: pydantic\n",
      "    Found existing installation: pydantic 2.7.4\n",
      "    Uninstalling pydantic-2.7.4:\n",
      "      Successfully uninstalled pydantic-2.7.4\n",
      "Successfully installed pydantic-2.10.6 pydantic_core-2.27.2\n"
     ]
    }
   ],
   "source": [
    "!pip install -U pydantic pydantic_core "
   ]
  },
  {
   "cell_type": "code",
   "execution_count": 3,
   "id": "7056cfac-747e-45d3-972e-fd6243903a16",
   "metadata": {
    "collapsed": true,
    "jupyter": {
     "outputs_hidden": true
    }
   },
   "outputs": [
    {
     "name": "stdout",
     "output_type": "stream",
     "text": [
      "Requirement already satisfied: chromadb in c:\\users\\apt4c\\anaconda3\\lib\\site-packages (0.6.3)\n",
      "Collecting build>=1.0.3 (from chromadb)\n",
      "  Using cached build-1.2.2.post1-py3-none-any.whl.metadata (6.5 kB)\n",
      "Requirement already satisfied: pydantic>=1.9 in c:\\users\\apt4c\\anaconda3\\lib\\site-packages (from chromadb) (2.10.6)\n",
      "Collecting chroma-hnswlib==0.7.6 (from chromadb)\n",
      "  Using cached chroma_hnswlib-0.7.6.tar.gz (32 kB)\n",
      "  Installing build dependencies: started\n",
      "  Installing build dependencies: finished with status 'done'\n",
      "  Getting requirements to build wheel: started\n",
      "  Getting requirements to build wheel: finished with status 'done'\n",
      "  Preparing metadata (pyproject.toml): started\n",
      "  Preparing metadata (pyproject.toml): finished with status 'done'\n",
      "Requirement already satisfied: fastapi>=0.95.2 in c:\\users\\apt4c\\anaconda3\\lib\\site-packages (from chromadb) (0.115.8)\n",
      "Requirement already satisfied: uvicorn>=0.18.3 in c:\\users\\apt4c\\anaconda3\\lib\\site-packages (from uvicorn[standard]>=0.18.3->chromadb) (0.34.0)\n",
      "Requirement already satisfied: numpy>=1.22.5 in c:\\users\\apt4c\\anaconda3\\lib\\site-packages (from chromadb) (1.26.4)\n",
      "Collecting posthog>=2.4.0 (from chromadb)\n",
      "  Using cached posthog-3.11.0-py2.py3-none-any.whl.metadata (2.9 kB)\n",
      "Requirement already satisfied: typing_extensions>=4.5.0 in c:\\users\\apt4c\\anaconda3\\lib\\site-packages (from chromadb) (4.12.2)\n",
      "Requirement already satisfied: onnxruntime>=1.14.1 in c:\\users\\apt4c\\anaconda3\\lib\\site-packages (from chromadb) (1.20.1)\n",
      "Collecting opentelemetry-api>=1.2.0 (from chromadb)\n",
      "  Using cached opentelemetry_api-1.29.0-py3-none-any.whl.metadata (1.4 kB)\n",
      "Collecting opentelemetry-exporter-otlp-proto-grpc>=1.2.0 (from chromadb)\n",
      "  Using cached opentelemetry_exporter_otlp_proto_grpc-1.29.0-py3-none-any.whl.metadata (2.2 kB)\n",
      "Collecting opentelemetry-instrumentation-fastapi>=0.41b0 (from chromadb)\n",
      "  Using cached opentelemetry_instrumentation_fastapi-0.50b0-py3-none-any.whl.metadata (2.1 kB)\n",
      "Collecting opentelemetry-sdk>=1.2.0 (from chromadb)\n",
      "  Using cached opentelemetry_sdk-1.29.0-py3-none-any.whl.metadata (1.5 kB)\n",
      "Requirement already satisfied: tokenizers>=0.13.2 in c:\\users\\apt4c\\anaconda3\\lib\\site-packages (from chromadb) (0.21.0)\n",
      "Collecting pypika>=0.48.9 (from chromadb)\n",
      "  Using cached PyPika-0.48.9-py2.py3-none-any.whl\n",
      "Requirement already satisfied: tqdm>=4.65.0 in c:\\users\\apt4c\\anaconda3\\lib\\site-packages (from chromadb) (4.66.4)\n",
      "Requirement already satisfied: overrides>=7.3.1 in c:\\users\\apt4c\\anaconda3\\lib\\site-packages (from chromadb) (7.4.0)\n",
      "Collecting importlib-resources (from chromadb)\n",
      "  Using cached importlib_resources-6.5.2-py3-none-any.whl.metadata (3.9 kB)\n",
      "Collecting grpcio>=1.58.0 (from chromadb)\n",
      "  Using cached grpcio-1.70.0-cp312-cp312-win_amd64.whl.metadata (4.0 kB)\n",
      "Collecting bcrypt>=4.0.1 (from chromadb)\n",
      "  Using cached bcrypt-4.2.1-cp39-abi3-win_amd64.whl.metadata (10 kB)\n",
      "Requirement already satisfied: typer>=0.9.0 in c:\\users\\apt4c\\anaconda3\\lib\\site-packages (from chromadb) (0.15.1)\n",
      "Collecting kubernetes>=28.1.0 (from chromadb)\n",
      "  Using cached kubernetes-32.0.0-py2.py3-none-any.whl.metadata (1.5 kB)\n",
      "Collecting tenacity>=8.2.3 (from chromadb)\n",
      "  Using cached tenacity-9.0.0-py3-none-any.whl.metadata (1.2 kB)\n",
      "Requirement already satisfied: PyYAML>=6.0.0 in c:\\users\\apt4c\\anaconda3\\lib\\site-packages (from chromadb) (6.0.1)\n",
      "Collecting mmh3>=4.0.1 (from chromadb)\n",
      "  Using cached mmh3-5.1.0-cp312-cp312-win_amd64.whl.metadata (16 kB)\n",
      "Requirement already satisfied: orjson>=3.9.12 in c:\\users\\apt4c\\anaconda3\\lib\\site-packages (from chromadb) (3.10.15)\n",
      "Requirement already satisfied: httpx>=0.27.0 in c:\\users\\apt4c\\anaconda3\\lib\\site-packages (from chromadb) (0.27.2)\n",
      "Requirement already satisfied: rich>=10.11.0 in c:\\users\\apt4c\\anaconda3\\lib\\site-packages (from chromadb) (13.3.5)\n",
      "Requirement already satisfied: packaging>=19.1 in c:\\users\\apt4c\\anaconda3\\lib\\site-packages (from build>=1.0.3->chromadb) (23.2)\n",
      "Collecting pyproject_hooks (from build>=1.0.3->chromadb)\n",
      "  Using cached pyproject_hooks-1.2.0-py3-none-any.whl.metadata (1.3 kB)\n",
      "Requirement already satisfied: colorama in c:\\users\\apt4c\\anaconda3\\lib\\site-packages (from build>=1.0.3->chromadb) (0.4.6)\n",
      "Requirement already satisfied: starlette<0.46.0,>=0.40.0 in c:\\users\\apt4c\\anaconda3\\lib\\site-packages (from fastapi>=0.95.2->chromadb) (0.45.3)\n",
      "Requirement already satisfied: anyio in c:\\users\\apt4c\\anaconda3\\lib\\site-packages (from httpx>=0.27.0->chromadb) (4.2.0)\n",
      "Requirement already satisfied: certifi in c:\\users\\apt4c\\anaconda3\\lib\\site-packages (from httpx>=0.27.0->chromadb) (2024.6.2)\n",
      "Requirement already satisfied: httpcore==1.* in c:\\users\\apt4c\\anaconda3\\lib\\site-packages (from httpx>=0.27.0->chromadb) (1.0.7)\n",
      "Requirement already satisfied: idna in c:\\users\\apt4c\\anaconda3\\lib\\site-packages (from httpx>=0.27.0->chromadb) (3.7)\n",
      "Requirement already satisfied: sniffio in c:\\users\\apt4c\\anaconda3\\lib\\site-packages (from httpx>=0.27.0->chromadb) (1.3.0)\n",
      "Requirement already satisfied: h11<0.15,>=0.13 in c:\\users\\apt4c\\anaconda3\\lib\\site-packages (from httpcore==1.*->httpx>=0.27.0->chromadb) (0.14.0)\n",
      "Requirement already satisfied: six>=1.9.0 in c:\\users\\apt4c\\anaconda3\\lib\\site-packages (from kubernetes>=28.1.0->chromadb) (1.16.0)\n",
      "Requirement already satisfied: python-dateutil>=2.5.3 in c:\\users\\apt4c\\anaconda3\\lib\\site-packages (from kubernetes>=28.1.0->chromadb) (2.9.0.post0)\n",
      "Collecting google-auth>=1.0.1 (from kubernetes>=28.1.0->chromadb)\n",
      "  Using cached google_auth-2.38.0-py2.py3-none-any.whl.metadata (4.8 kB)\n",
      "Requirement already satisfied: websocket-client!=0.40.0,!=0.41.*,!=0.42.*,>=0.32.0 in c:\\users\\apt4c\\anaconda3\\lib\\site-packages (from kubernetes>=28.1.0->chromadb) (1.8.0)\n",
      "Requirement already satisfied: requests in c:\\users\\apt4c\\anaconda3\\lib\\site-packages (from kubernetes>=28.1.0->chromadb) (2.32.2)\n",
      "Collecting requests-oauthlib (from kubernetes>=28.1.0->chromadb)\n",
      "  Using cached requests_oauthlib-2.0.0-py2.py3-none-any.whl.metadata (11 kB)\n",
      "Collecting oauthlib>=3.2.2 (from kubernetes>=28.1.0->chromadb)\n",
      "  Using cached oauthlib-3.2.2-py3-none-any.whl.metadata (7.5 kB)\n",
      "Requirement already satisfied: urllib3>=1.24.2 in c:\\users\\apt4c\\anaconda3\\lib\\site-packages (from kubernetes>=28.1.0->chromadb) (2.2.2)\n",
      "Collecting durationpy>=0.7 (from kubernetes>=28.1.0->chromadb)\n",
      "  Using cached durationpy-0.9-py3-none-any.whl.metadata (338 bytes)\n",
      "Requirement already satisfied: coloredlogs in c:\\users\\apt4c\\anaconda3\\lib\\site-packages (from onnxruntime>=1.14.1->chromadb) (15.0.1)\n",
      "Requirement already satisfied: flatbuffers in c:\\users\\apt4c\\anaconda3\\lib\\site-packages (from onnxruntime>=1.14.1->chromadb) (25.1.24)\n",
      "Requirement already satisfied: protobuf in c:\\users\\apt4c\\anaconda3\\lib\\site-packages (from onnxruntime>=1.14.1->chromadb) (3.20.3)\n",
      "Requirement already satisfied: sympy in c:\\users\\apt4c\\anaconda3\\lib\\site-packages (from onnxruntime>=1.14.1->chromadb) (1.12)\n",
      "Collecting deprecated>=1.2.6 (from opentelemetry-api>=1.2.0->chromadb)\n",
      "  Using cached Deprecated-1.2.18-py2.py3-none-any.whl.metadata (5.7 kB)\n",
      "Requirement already satisfied: importlib-metadata<=8.5.0,>=6.0 in c:\\users\\apt4c\\anaconda3\\lib\\site-packages (from opentelemetry-api>=1.2.0->chromadb) (7.0.1)\n",
      "Collecting googleapis-common-protos~=1.52 (from opentelemetry-exporter-otlp-proto-grpc>=1.2.0->chromadb)\n",
      "  Using cached googleapis_common_protos-1.66.0-py2.py3-none-any.whl.metadata (1.5 kB)\n",
      "Collecting opentelemetry-exporter-otlp-proto-common==1.29.0 (from opentelemetry-exporter-otlp-proto-grpc>=1.2.0->chromadb)\n",
      "  Using cached opentelemetry_exporter_otlp_proto_common-1.29.0-py3-none-any.whl.metadata (1.8 kB)\n",
      "Collecting opentelemetry-proto==1.29.0 (from opentelemetry-exporter-otlp-proto-grpc>=1.2.0->chromadb)\n",
      "  Using cached opentelemetry_proto-1.29.0-py3-none-any.whl.metadata (2.3 kB)\n",
      "Collecting protobuf (from onnxruntime>=1.14.1->chromadb)\n",
      "  Using cached protobuf-5.29.3-cp310-abi3-win_amd64.whl.metadata (592 bytes)\n",
      "Collecting opentelemetry-instrumentation-asgi==0.50b0 (from opentelemetry-instrumentation-fastapi>=0.41b0->chromadb)\n",
      "  Using cached opentelemetry_instrumentation_asgi-0.50b0-py3-none-any.whl.metadata (1.9 kB)\n",
      "Collecting opentelemetry-instrumentation==0.50b0 (from opentelemetry-instrumentation-fastapi>=0.41b0->chromadb)\n",
      "  Using cached opentelemetry_instrumentation-0.50b0-py3-none-any.whl.metadata (6.1 kB)\n",
      "Collecting opentelemetry-semantic-conventions==0.50b0 (from opentelemetry-instrumentation-fastapi>=0.41b0->chromadb)\n",
      "  Using cached opentelemetry_semantic_conventions-0.50b0-py3-none-any.whl.metadata (2.3 kB)\n",
      "Collecting opentelemetry-util-http==0.50b0 (from opentelemetry-instrumentation-fastapi>=0.41b0->chromadb)\n",
      "  Using cached opentelemetry_util_http-0.50b0-py3-none-any.whl.metadata (2.5 kB)\n",
      "Requirement already satisfied: wrapt<2.0.0,>=1.0.0 in c:\\users\\apt4c\\anaconda3\\lib\\site-packages (from opentelemetry-instrumentation==0.50b0->opentelemetry-instrumentation-fastapi>=0.41b0->chromadb) (1.14.1)\n",
      "Collecting asgiref~=3.0 (from opentelemetry-instrumentation-asgi==0.50b0->opentelemetry-instrumentation-fastapi>=0.41b0->chromadb)\n",
      "  Using cached asgiref-3.8.1-py3-none-any.whl.metadata (9.3 kB)\n",
      "Collecting monotonic>=1.5 (from posthog>=2.4.0->chromadb)\n",
      "  Using cached monotonic-1.6-py2.py3-none-any.whl.metadata (1.5 kB)\n",
      "Collecting backoff>=1.10.0 (from posthog>=2.4.0->chromadb)\n",
      "  Using cached backoff-2.2.1-py3-none-any.whl.metadata (14 kB)\n",
      "Requirement already satisfied: annotated-types>=0.6.0 in c:\\users\\apt4c\\anaconda3\\lib\\site-packages (from pydantic>=1.9->chromadb) (0.6.0)\n",
      "Requirement already satisfied: pydantic-core==2.27.2 in c:\\users\\apt4c\\anaconda3\\lib\\site-packages (from pydantic>=1.9->chromadb) (2.27.2)\n",
      "Requirement already satisfied: markdown-it-py<3.0.0,>=2.2.0 in c:\\users\\apt4c\\anaconda3\\lib\\site-packages (from rich>=10.11.0->chromadb) (2.2.0)\n",
      "Requirement already satisfied: pygments<3.0.0,>=2.13.0 in c:\\users\\apt4c\\anaconda3\\lib\\site-packages (from rich>=10.11.0->chromadb) (2.15.1)\n",
      "Requirement already satisfied: huggingface-hub<1.0,>=0.16.4 in c:\\users\\apt4c\\anaconda3\\lib\\site-packages (from tokenizers>=0.13.2->chromadb) (0.28.1)\n",
      "Requirement already satisfied: click>=8.0.0 in c:\\users\\apt4c\\anaconda3\\lib\\site-packages (from typer>=0.9.0->chromadb) (8.1.7)\n",
      "Requirement already satisfied: shellingham>=1.3.0 in c:\\users\\apt4c\\anaconda3\\lib\\site-packages (from typer>=0.9.0->chromadb) (1.5.4)\n",
      "Collecting httptools>=0.6.3 (from uvicorn[standard]>=0.18.3->chromadb)\n",
      "  Using cached httptools-0.6.4-cp312-cp312-win_amd64.whl.metadata (3.7 kB)\n",
      "Requirement already satisfied: python-dotenv>=0.13 in c:\\users\\apt4c\\anaconda3\\lib\\site-packages (from uvicorn[standard]>=0.18.3->chromadb) (0.21.0)\n",
      "Collecting watchfiles>=0.13 (from uvicorn[standard]>=0.18.3->chromadb)\n",
      "  Using cached watchfiles-1.0.4-cp312-cp312-win_amd64.whl.metadata (5.0 kB)\n",
      "Requirement already satisfied: websockets>=10.4 in c:\\users\\apt4c\\anaconda3\\lib\\site-packages (from uvicorn[standard]>=0.18.3->chromadb) (14.2)\n",
      "Requirement already satisfied: cachetools<6.0,>=2.0.0 in c:\\users\\apt4c\\anaconda3\\lib\\site-packages (from google-auth>=1.0.1->kubernetes>=28.1.0->chromadb) (5.3.3)\n",
      "Requirement already satisfied: pyasn1-modules>=0.2.1 in c:\\users\\apt4c\\anaconda3\\lib\\site-packages (from google-auth>=1.0.1->kubernetes>=28.1.0->chromadb) (0.2.8)\n",
      "Collecting rsa<5,>=3.1.4 (from google-auth>=1.0.1->kubernetes>=28.1.0->chromadb)\n",
      "  Using cached rsa-4.9-py3-none-any.whl.metadata (4.2 kB)\n",
      "Requirement already satisfied: filelock in c:\\users\\apt4c\\anaconda3\\lib\\site-packages (from huggingface-hub<1.0,>=0.16.4->tokenizers>=0.13.2->chromadb) (3.13.1)\n",
      "Requirement already satisfied: fsspec>=2023.5.0 in c:\\users\\apt4c\\anaconda3\\lib\\site-packages (from huggingface-hub<1.0,>=0.16.4->tokenizers>=0.13.2->chromadb) (2024.3.1)\n",
      "Requirement already satisfied: zipp>=0.5 in c:\\users\\apt4c\\anaconda3\\lib\\site-packages (from importlib-metadata<=8.5.0,>=6.0->opentelemetry-api>=1.2.0->chromadb) (3.17.0)\n",
      "Requirement already satisfied: mdurl~=0.1 in c:\\users\\apt4c\\anaconda3\\lib\\site-packages (from markdown-it-py<3.0.0,>=2.2.0->rich>=10.11.0->chromadb) (0.1.0)\n",
      "Requirement already satisfied: charset-normalizer<4,>=2 in c:\\users\\apt4c\\anaconda3\\lib\\site-packages (from requests->kubernetes>=28.1.0->chromadb) (2.0.4)\n",
      "Requirement already satisfied: humanfriendly>=9.1 in c:\\users\\apt4c\\anaconda3\\lib\\site-packages (from coloredlogs->onnxruntime>=1.14.1->chromadb) (10.0)\n",
      "Requirement already satisfied: mpmath>=0.19 in c:\\users\\apt4c\\anaconda3\\lib\\site-packages (from sympy->onnxruntime>=1.14.1->chromadb) (1.3.0)\n",
      "Requirement already satisfied: pyreadline3 in c:\\users\\apt4c\\anaconda3\\lib\\site-packages (from humanfriendly>=9.1->coloredlogs->onnxruntime>=1.14.1->chromadb) (3.5.4)\n",
      "Requirement already satisfied: pyasn1<0.5.0,>=0.4.6 in c:\\users\\apt4c\\anaconda3\\lib\\site-packages (from pyasn1-modules>=0.2.1->google-auth>=1.0.1->kubernetes>=28.1.0->chromadb) (0.4.8)\n",
      "Using cached bcrypt-4.2.1-cp39-abi3-win_amd64.whl (153 kB)\n",
      "Using cached build-1.2.2.post1-py3-none-any.whl (22 kB)\n",
      "Using cached grpcio-1.70.0-cp312-cp312-win_amd64.whl (4.3 MB)\n",
      "Using cached kubernetes-32.0.0-py2.py3-none-any.whl (2.0 MB)\n",
      "Using cached mmh3-5.1.0-cp312-cp312-win_amd64.whl (41 kB)\n",
      "Using cached opentelemetry_api-1.29.0-py3-none-any.whl (64 kB)\n",
      "Using cached opentelemetry_exporter_otlp_proto_grpc-1.29.0-py3-none-any.whl (18 kB)\n",
      "Using cached opentelemetry_exporter_otlp_proto_common-1.29.0-py3-none-any.whl (18 kB)\n",
      "Using cached opentelemetry_proto-1.29.0-py3-none-any.whl (55 kB)\n",
      "Using cached opentelemetry_instrumentation_fastapi-0.50b0-py3-none-any.whl (12 kB)\n",
      "Using cached opentelemetry_instrumentation-0.50b0-py3-none-any.whl (30 kB)\n",
      "Using cached opentelemetry_instrumentation_asgi-0.50b0-py3-none-any.whl (16 kB)\n",
      "Using cached opentelemetry_semantic_conventions-0.50b0-py3-none-any.whl (166 kB)\n",
      "Using cached opentelemetry_util_http-0.50b0-py3-none-any.whl (6.9 kB)\n",
      "Using cached opentelemetry_sdk-1.29.0-py3-none-any.whl (118 kB)\n",
      "Using cached posthog-3.11.0-py2.py3-none-any.whl (72 kB)\n",
      "Using cached tenacity-9.0.0-py3-none-any.whl (28 kB)\n",
      "Using cached importlib_resources-6.5.2-py3-none-any.whl (37 kB)\n",
      "Using cached backoff-2.2.1-py3-none-any.whl (15 kB)\n",
      "Using cached Deprecated-1.2.18-py2.py3-none-any.whl (10.0 kB)\n",
      "Using cached durationpy-0.9-py3-none-any.whl (3.5 kB)\n",
      "Using cached google_auth-2.38.0-py2.py3-none-any.whl (210 kB)\n",
      "Using cached googleapis_common_protos-1.66.0-py2.py3-none-any.whl (221 kB)\n",
      "Using cached httptools-0.6.4-cp312-cp312-win_amd64.whl (88 kB)\n",
      "Using cached monotonic-1.6-py2.py3-none-any.whl (8.2 kB)\n",
      "Using cached oauthlib-3.2.2-py3-none-any.whl (151 kB)\n",
      "Using cached protobuf-5.29.3-cp310-abi3-win_amd64.whl (434 kB)\n",
      "Using cached watchfiles-1.0.4-cp312-cp312-win_amd64.whl (285 kB)\n",
      "Using cached pyproject_hooks-1.2.0-py3-none-any.whl (10 kB)\n",
      "Using cached requests_oauthlib-2.0.0-py2.py3-none-any.whl (24 kB)\n",
      "Using cached asgiref-3.8.1-py3-none-any.whl (23 kB)\n",
      "Using cached rsa-4.9-py3-none-any.whl (34 kB)\n",
      "Building wheels for collected packages: chroma-hnswlib\n",
      "  Building wheel for chroma-hnswlib (pyproject.toml): started\n",
      "  Building wheel for chroma-hnswlib (pyproject.toml): finished with status 'error'\n",
      "Failed to build chroma-hnswlib\n"
     ]
    },
    {
     "name": "stderr",
     "output_type": "stream",
     "text": [
      "  error: subprocess-exited-with-error\n",
      "  \n",
      "  Building wheel for chroma-hnswlib (pyproject.toml) did not run successfully.\n",
      "  exit code: 1\n",
      "  \n",
      "  [5 lines of output]\n",
      "  running bdist_wheel\n",
      "  running build\n",
      "  running build_ext\n",
      "  building 'hnswlib' extension\n",
      "  error: Microsoft Visual C++ 14.0 or greater is required. Get it with \"Microsoft C++ Build Tools\": https://visualstudio.microsoft.com/visual-cpp-build-tools/\n",
      "  [end of output]\n",
      "  \n",
      "  note: This error originates from a subprocess, and is likely not a problem with pip.\n",
      "  ERROR: Failed building wheel for chroma-hnswlib\n",
      "ERROR: Could not build wheels for chroma-hnswlib, which is required to install pyproject.toml-based projects\n"
     ]
    }
   ],
   "source": [
    "# FAILED\n",
    "#!pip install chromadb"
   ]
  },
  {
   "cell_type": "code",
   "execution_count": 72,
   "id": "e818f90c-08af-4258-8fa1-572e6b3e463d",
   "metadata": {
    "collapsed": true,
    "jupyter": {
     "outputs_hidden": true
    }
   },
   "outputs": [
    {
     "name": "stdout",
     "output_type": "stream",
     "text": [
      "Requirement already satisfied: langchain in c:\\users\\apt4c\\anaconda3\\lib\\site-packages (0.3.17)\n",
      "Requirement already satisfied: PyYAML>=5.3 in c:\\users\\apt4c\\anaconda3\\lib\\site-packages (from langchain) (6.0.1)\n",
      "Requirement already satisfied: SQLAlchemy<3,>=1.4 in c:\\users\\apt4c\\anaconda3\\lib\\site-packages (from langchain) (2.0.30)\n",
      "Requirement already satisfied: aiohttp<4.0.0,>=3.8.3 in c:\\users\\apt4c\\anaconda3\\lib\\site-packages (from langchain) (3.9.5)\n",
      "Requirement already satisfied: langchain-core<0.4.0,>=0.3.33 in c:\\users\\apt4c\\anaconda3\\lib\\site-packages (from langchain) (0.3.33)\n",
      "Requirement already satisfied: langchain-text-splitters<0.4.0,>=0.3.3 in c:\\users\\apt4c\\anaconda3\\lib\\site-packages (from langchain) (0.3.5)\n",
      "Requirement already satisfied: langsmith<0.4,>=0.1.17 in c:\\users\\apt4c\\anaconda3\\lib\\site-packages (from langchain) (0.3.4)\n",
      "Requirement already satisfied: numpy<3,>=1.26.2 in c:\\users\\apt4c\\anaconda3\\lib\\site-packages (from langchain) (1.26.4)\n",
      "Requirement already satisfied: pydantic<3.0.0,>=2.7.4 in c:\\users\\apt4c\\anaconda3\\lib\\site-packages (from langchain) (2.10.6)\n",
      "Requirement already satisfied: requests<3,>=2 in c:\\users\\apt4c\\anaconda3\\lib\\site-packages (from langchain) (2.32.2)\n",
      "Requirement already satisfied: tenacity!=8.4.0,<10,>=8.1.0 in c:\\users\\apt4c\\anaconda3\\lib\\site-packages (from langchain) (8.2.2)\n",
      "Requirement already satisfied: aiosignal>=1.1.2 in c:\\users\\apt4c\\anaconda3\\lib\\site-packages (from aiohttp<4.0.0,>=3.8.3->langchain) (1.2.0)\n",
      "Requirement already satisfied: attrs>=17.3.0 in c:\\users\\apt4c\\anaconda3\\lib\\site-packages (from aiohttp<4.0.0,>=3.8.3->langchain) (23.1.0)\n",
      "Requirement already satisfied: frozenlist>=1.1.1 in c:\\users\\apt4c\\anaconda3\\lib\\site-packages (from aiohttp<4.0.0,>=3.8.3->langchain) (1.4.0)\n",
      "Requirement already satisfied: multidict<7.0,>=4.5 in c:\\users\\apt4c\\anaconda3\\lib\\site-packages (from aiohttp<4.0.0,>=3.8.3->langchain) (6.0.4)\n",
      "Requirement already satisfied: yarl<2.0,>=1.0 in c:\\users\\apt4c\\anaconda3\\lib\\site-packages (from aiohttp<4.0.0,>=3.8.3->langchain) (1.9.3)\n",
      "Requirement already satisfied: jsonpatch<2.0,>=1.33 in c:\\users\\apt4c\\anaconda3\\lib\\site-packages (from langchain-core<0.4.0,>=0.3.33->langchain) (1.33)\n",
      "Requirement already satisfied: packaging<25,>=23.2 in c:\\users\\apt4c\\anaconda3\\lib\\site-packages (from langchain-core<0.4.0,>=0.3.33->langchain) (23.2)\n",
      "Requirement already satisfied: typing-extensions>=4.7 in c:\\users\\apt4c\\anaconda3\\lib\\site-packages (from langchain-core<0.4.0,>=0.3.33->langchain) (4.12.2)\n",
      "Requirement already satisfied: httpx<1,>=0.23.0 in c:\\users\\apt4c\\anaconda3\\lib\\site-packages (from langsmith<0.4,>=0.1.17->langchain) (0.27.2)\n",
      "Requirement already satisfied: orjson<4.0.0,>=3.9.14 in c:\\users\\apt4c\\anaconda3\\lib\\site-packages (from langsmith<0.4,>=0.1.17->langchain) (3.10.15)\n",
      "Requirement already satisfied: requests-toolbelt<2.0.0,>=1.0.0 in c:\\users\\apt4c\\anaconda3\\lib\\site-packages (from langsmith<0.4,>=0.1.17->langchain) (1.0.0)\n",
      "Requirement already satisfied: zstandard<0.24.0,>=0.23.0 in c:\\users\\apt4c\\anaconda3\\lib\\site-packages (from langsmith<0.4,>=0.1.17->langchain) (0.23.0)\n",
      "Requirement already satisfied: annotated-types>=0.6.0 in c:\\users\\apt4c\\anaconda3\\lib\\site-packages (from pydantic<3.0.0,>=2.7.4->langchain) (0.6.0)\n",
      "Requirement already satisfied: pydantic-core==2.27.2 in c:\\users\\apt4c\\anaconda3\\lib\\site-packages (from pydantic<3.0.0,>=2.7.4->langchain) (2.27.2)\n",
      "Requirement already satisfied: charset-normalizer<4,>=2 in c:\\users\\apt4c\\anaconda3\\lib\\site-packages (from requests<3,>=2->langchain) (2.0.4)\n",
      "Requirement already satisfied: idna<4,>=2.5 in c:\\users\\apt4c\\anaconda3\\lib\\site-packages (from requests<3,>=2->langchain) (3.7)\n",
      "Requirement already satisfied: urllib3<3,>=1.21.1 in c:\\users\\apt4c\\anaconda3\\lib\\site-packages (from requests<3,>=2->langchain) (2.2.2)\n",
      "Requirement already satisfied: certifi>=2017.4.17 in c:\\users\\apt4c\\anaconda3\\lib\\site-packages (from requests<3,>=2->langchain) (2024.6.2)\n",
      "Requirement already satisfied: greenlet!=0.4.17 in c:\\users\\apt4c\\anaconda3\\lib\\site-packages (from SQLAlchemy<3,>=1.4->langchain) (3.0.1)\n",
      "Requirement already satisfied: anyio in c:\\users\\apt4c\\anaconda3\\lib\\site-packages (from httpx<1,>=0.23.0->langsmith<0.4,>=0.1.17->langchain) (4.2.0)\n",
      "Requirement already satisfied: httpcore==1.* in c:\\users\\apt4c\\anaconda3\\lib\\site-packages (from httpx<1,>=0.23.0->langsmith<0.4,>=0.1.17->langchain) (1.0.7)\n",
      "Requirement already satisfied: sniffio in c:\\users\\apt4c\\anaconda3\\lib\\site-packages (from httpx<1,>=0.23.0->langsmith<0.4,>=0.1.17->langchain) (1.3.0)\n",
      "Requirement already satisfied: h11<0.15,>=0.13 in c:\\users\\apt4c\\anaconda3\\lib\\site-packages (from httpcore==1.*->httpx<1,>=0.23.0->langsmith<0.4,>=0.1.17->langchain) (0.14.0)\n",
      "Requirement already satisfied: jsonpointer>=1.9 in c:\\users\\apt4c\\anaconda3\\lib\\site-packages (from jsonpatch<2.0,>=1.33->langchain-core<0.4.0,>=0.3.33->langchain) (2.1)\n"
     ]
    }
   ],
   "source": [
    "!pip install langchain \n",
    "!pip install gradio \n",
    "!pip install -U langchain-community"
   ]
  },
  {
   "cell_type": "code",
   "execution_count": 84,
   "id": "35292c99-a550-4d42-9f5e-c663ce2f81c5",
   "metadata": {},
   "outputs": [
    {
     "name": "stdout",
     "output_type": "stream",
     "text": [
      "Requirement already satisfied: faiss-cpu in c:\\users\\apt4c\\anaconda3\\lib\\site-packages (1.10.0)\n",
      "Requirement already satisfied: numpy<3.0,>=1.25.0 in c:\\users\\apt4c\\anaconda3\\lib\\site-packages (from faiss-cpu) (1.26.4)\n",
      "Requirement already satisfied: packaging in c:\\users\\apt4c\\anaconda3\\lib\\site-packages (from faiss-cpu) (23.2)\n"
     ]
    }
   ],
   "source": [
    "!pip install faiss-cpu"
   ]
  },
  {
   "cell_type": "code",
   "execution_count": 140,
   "id": "f51876d5-893a-4a0a-bdfd-304499e66d10",
   "metadata": {},
   "outputs": [],
   "source": [
    "#pip list"
   ]
  },
  {
   "cell_type": "markdown",
   "id": "40771714-ecf0-4b37-8042-6575a36743e9",
   "metadata": {},
   "source": [
    "Import modules"
   ]
  },
  {
   "cell_type": "code",
   "execution_count": 141,
   "id": "f2e8b3a0-c9b8-4775-bff1-b6b4a013c3a0",
   "metadata": {},
   "outputs": [],
   "source": [
    "import gradio as gr\n",
    "from langchain_community.document_loaders import PyMuPDFLoader\n",
    "from langchain.text_splitter import RecursiveCharacterTextSplitter\n",
    "#from langchain.vectorstores import Chroma\n",
    "from langchain_community.embeddings import OllamaEmbeddings\n",
    "#from langchain_community import embeddings\n",
    "from langchain.vectorstores.faiss import FAISS\n",
    "import ollama\n",
    "import re"
   ]
  },
  {
   "cell_type": "markdown",
   "id": "1784d7bc-0e7e-4b43-b346-46e00f7cc333",
   "metadata": {},
   "source": [
    "#### Process uploaded PDF"
   ]
  },
  {
   "cell_type": "code",
   "execution_count": 147,
   "id": "e13c3de1-87e1-4404-a8e0-b8d4d8def016",
   "metadata": {},
   "outputs": [],
   "source": [
    "def process_pdf(pdf_bytes):\n",
    "    if pdf_bytes is None:\n",
    "        return None, None, None\n",
    "    loader = PyMuPDFLoader(pdf_bytes)\n",
    "    data = loader.load()\n",
    "    print('data:', data)\n",
    "    text_splitter = RecursiveCharacterTextSplitter(chunk_size=50, chunk_overlap=10)\n",
    "    chunks = text_splitter.split_documents(data)\n",
    "    print('chunks[0]:', chunks[0])\n",
    "    print('chunks[1]:', chunks[1])\n",
    "    #embed = embeddings.ollama.OllamaEmbeddings(base_url='http://192.168.0.200:11434', model=\"ollama/llama2\")\n",
    "    #embed = OllamaEmbeddings(base_url='http://localhost:11434', model=\"ollama/llama2\")\n",
    "    embed = OllamaEmbeddings(base_url='http://localhost:11434', model=\"llama2:latest\")\n",
    "    print('embed:', embed)\n",
    "    #vectorstore=Chroma.from_documents(documents=chunks, embedding=embeddings)\n",
    "\n",
    "    # Create the FAISS index for document retrieval\n",
    "    vectorstore = FAISS.from_documents(chunks, embed)\n",
    "    \n",
    "    retriever = vectorstore.as_retriever()\n",
    "    print('vectorstore:', vectorstore)\n",
    "    \n",
    "    return text_splitter, vectorstore, retriever"
   ]
  },
  {
   "cell_type": "code",
   "execution_count": 148,
   "id": "441012e8-5432-4e29-85fd-26e3814254d9",
   "metadata": {},
   "outputs": [],
   "source": [
    "def combine_docs(docs):\n",
    "    return \"\\n\\n\".join(doc.page_content for doc in docs)"
   ]
  },
  {
   "cell_type": "code",
   "execution_count": 149,
   "id": "1274967c-7dbe-4edc-ade4-67c9dd85a590",
   "metadata": {},
   "outputs": [],
   "source": [
    "def ollama_llm(question, context):\n",
    "   formatted_prompt = f\"Question: {question}\\n\\nContext: {context}\"\n",
    "   response = ollama.chat(model=\"llama2:latest\", messages=[{'role': 'user', 'content': formatted_prompt}])\n",
    "   print('response:',response)\n",
    "   response_content = response['message']['content']\n",
    "    \n",
    "   # Remove content between <think> and </think> tags to remove thinking output\n",
    "   final_answer = re.sub(r'<think>.*?</think>', '', response_content, flags=re.DOTALL).strip()\n",
    "   print('final_answer:',final_answer)\n",
    "    \n",
    "   return final_answer"
   ]
  },
  {
   "cell_type": "code",
   "execution_count": 150,
   "id": "2526f931-2884-4d27-8ce9-1f7c5230732b",
   "metadata": {},
   "outputs": [],
   "source": [
    "def rag_chain(question, text_splitter, vectorstore, retriever):\n",
    "    retrieved_docs = retriever.invoke(question)\n",
    "    formatted_content = combine_docs(retrieved_docs)\n",
    "    return ollama_llm(question, formatted_content)"
   ]
  },
  {
   "cell_type": "code",
   "execution_count": null,
   "id": "452092e5-a9a0-495c-af21-d5e79020248f",
   "metadata": {},
   "outputs": [
    {
     "name": "stdout",
     "output_type": "stream",
     "text": [
      "* Running on local URL:  http://127.0.0.1:7860\n",
      "\n",
      "To create a public link, set `share=True` in `launch()`.\n"
     ]
    },
    {
     "data": {
      "text/html": [
       "<div><iframe src=\"http://127.0.0.1:7860/\" width=\"100%\" height=\"500\" allow=\"autoplay; camera; microphone; clipboard-read; clipboard-write;\" frameborder=\"0\" allowfullscreen></iframe></div>"
      ],
      "text/plain": [
       "<IPython.core.display.HTML object>"
      ]
     },
     "metadata": {},
     "output_type": "display_data"
    },
    {
     "name": "stdout",
     "output_type": "stream",
     "text": [
      "data: [Document(metadata={'producer': 'Microsoft: Print To PDF', 'creator': '', 'creationdate': '2025-01-29T12:17:12-05:00', 'source': 'C:\\\\Users\\\\apt4c\\\\AppData\\\\Local\\\\Temp\\\\gradio\\\\34b58d949817ee04404996ee6afb28921aed932ffc8e59c68771a4131f0f4c24\\\\CV_APT_latest.pdf', 'file_path': 'C:\\\\Users\\\\apt4c\\\\AppData\\\\Local\\\\Temp\\\\gradio\\\\34b58d949817ee04404996ee6afb28921aed932ffc8e59c68771a4131f0f4c24\\\\CV_APT_latest.pdf', 'total_pages': 8, 'format': 'PDF 1.7', 'title': 'CV_APT_latest.doc', 'author': 'Adam Tashman', 'subject': '', 'keywords': '', 'moddate': '2025-01-29T12:17:12-05:00', 'trapped': '', 'page': 0}, page_content='Adam P. Tashman, PhD, PRM\\nSUMMARY\\n\\uf0b7Data science leader, educator, author\\n\\uf0b7Experienced in leading and building teams of data scienƟsts and quanƟtaƟve researchers\\n\\uf0b7QuanƟtaƟve analyst/researcher with extensive experience in modeling, predicƟon, programming, risk\\n\\uf0b7Specialize in machine learning, data mining, stochasƟc processes, risk models, Ɵme series analysis, opƟmizaƟon\\n\\uf0b7Long track record of working with diverse, large data sets\\n\\uf0b7Highly producƟve team player, experienced working with analysts, researchers, developers, and upper management \\n\\uf0b7Excellent communicator, experienced delivering custom soluƟons to clients\\nRELEVANT WORK EXPERIENCE\\nUniversity of Virginia School of Data Science (SDS). CharloƩesville, VA.\\nCapstone Program Director. 8/2023-present\\nProgram Co-Director, Online Master’s in Data Science. 9/2022-12/2022\\nProgram Director, Online Master’s in Data Science. 1/2021-8/2022\\nAssociate Professor of Data Science. 1/2021-present\\n\\uf0b7End-to-end ownership of capstone program: project sourcing, veƫng, oversight and advising, relaƟonship building, event \\nplanning, and communicaƟons across social impact organizaƟons, corporate, academic, civic, and government enƟƟes.\\n\\uf0b7Responsible for the success and saƟsfacƟon of the 200 students and 20 faculty in the online Master’s program\\n\\uf0b7Increased online program’s net promoter score from -20 (bad) to 50 (great)\\n\\uf0b7Created and launched Industry Advisor Network with Career Services for career coaching and placement\\n\\uf0b7Develop and teach highly-regarded data science courses\\n\\uf0b7Partner with Academic Aﬀairs, Admissions, Career Services, CommunicaƟons, EdTech vendors, Finance, Student Services, \\nTechnology to deliver end-to-end mission\\n\\uf0b7Member of Tiger Team to propose new, scalable org structure\\n\\uf0b7Developed Standards and Curriculum for Financial Modeling course to be taught at all public high schools in VA as Member of \\nVirginia MathemaƟcs Pathways IniƟaƟve (VMPI) \\n\\uf0b7Ongoing research project with UVA Nephrology to apply reinforcement learning for paƟent dosing to regulate bone mineral \\nmetabolism\\nLecturer, 9/2019-12/2020\\n\\uf0b7Developed and taught online data science course Big Data Systems\\nAmazon Web Services (AWS). Remote.\\nWorldwide Public Sector, Product AcceleraƟon\\nExecuƟve Data ScienƟst and Insights Advisor. 5/2022-12/2023.\\nThe team provides strategic consulƟng, advisory, and development services to EdTech and GovTech companies\\n\\uf0b7Work with execuƟves to surface, prioriƟze, and plan AI/ML iniƟaƟves\\n\\uf0b7Partner with data science and data engineering teams to design and build proof of concepts\\n\\uf0b7Focus areas in generaƟve AI, search, metadata extracƟon, and fraud predicƟon\\n\\uf0b7Provide thought leadership in AI/ML through webinars, white papers, internal training, and execuƟve brieﬁngs\\n\\uf0b7Developed framework to esƟmate project ROI to prioriƟze team opportuniƟes\\n\\uf0b7Worked with large educaƟon companies to expand and launch products using generaƟve AI\\n\\uf0b7Helped large healthcare soluƟon provider develop an AI Data Lab to improve community behavioral health\\nCliniComp, Intl. San Diego, CA.\\nDirector, Data Science and ArƟﬁcial Intelligence, 3/2020-4/2021\\n\\uf0b7Led and grew a biomedical informaƟcs team of data scienƟsts and data engineers in the electronic health records space\\n\\uf0b7Oversaw build-out of COVID-19 paƟent surveillance and analyƟcs across 43 VA hospitals\\n\\uf0b7Harnessed deep learning to improve paƟent outcomes and produce real-Ɵme alerts, speciﬁcally:\\n- interoperability: classiﬁcaƟon of lab tests and vital sign measurements using NLP techniques\\n- sepƟc shock predicƟon using a GRU model\\nAdam P Tashman, PhD, PRM                                                                                                                                                         Page | 1 \\nEmail: tashmania65@gmail.com\\nLinkedIn: hƩps://www.linkedin.com/in/adam-tashman-93a82722/'), Document(metadata={'producer': 'Microsoft: Print To PDF', 'creator': '', 'creationdate': '2025-01-29T12:17:12-05:00', 'source': 'C:\\\\Users\\\\apt4c\\\\AppData\\\\Local\\\\Temp\\\\gradio\\\\34b58d949817ee04404996ee6afb28921aed932ffc8e59c68771a4131f0f4c24\\\\CV_APT_latest.pdf', 'file_path': 'C:\\\\Users\\\\apt4c\\\\AppData\\\\Local\\\\Temp\\\\gradio\\\\34b58d949817ee04404996ee6afb28921aed932ffc8e59c68771a4131f0f4c24\\\\CV_APT_latest.pdf', 'total_pages': 8, 'format': 'PDF 1.7', 'title': 'CV_APT_latest.doc', 'author': 'Adam Tashman', 'subject': '', 'keywords': '', 'moddate': '2025-01-29T12:17:12-05:00', 'trapped': '', 'page': 1}, page_content='- ECG rhythm classiﬁcaƟon using a CNN model\\n- paƟent representaƟons using deep learning methods\\nCarpe Data. Santa Barbara, CA.\\nAdvisor, 3/2020-4/2021\\nVP, Head of Data Science, 1/2019-2/2020\\nDirector of Data Science, 11/2016-12/2018\\nCarpe Data is a startup InsurTech company providing predicƟve scoring and next-generaƟon data products to insurers.\\nRated one of the top 25 insurtech ﬁrms in 2018 by Oxbow Partners, a top insurance consultancy.\\nI was employee #11.\\n\\uf0b7Built and led data science department to develop model-driven processes across the ﬁrm\\n\\uf0b7Applied AI to innovaƟve datasets derived from online content.  Areas of focus included machine learning, natural language \\nprocessing, deep learning.\\n\\uf0b7Developed a machine learning system to answer commercial underwriƟng quesƟons. Components included natural language \\nprocessing and computer vision.  \\n\\uf0b7Conceptualized, developed, launched and managed a suite of indexes to rank-order commercial risk across dimensions including \\ncustomer raƟngs and online presence \\n\\uf0b7Responsible for the data science codebase, database, tesƟng, and integraƟon\\n\\uf0b7Managed development, tesƟng,  validaƟon, performance measurement of all data science models for the purpose of:\\n- Claims Management: fast-tracking legiƟmate claims and low-risk subjects, ﬂagging fraudulent claims\\nFraud model detected 92% of conﬁrmed fraudulent subjects with half the ﬂag rate of the benchmark model.\\n- Business Risk Measurement and PredicƟon: classiﬁcaƟon of businesses by type, predicƟng negaƟve outcomes (closure, claim \\nlosses)\\n\\uf0b7Leveraged AWS products for cloud compute and storage (EC2/S3/EMR/Athena)\\n\\uf0b7Partnered with University of California, Santa Barbara: spearheaded corporate sponsorship to fund local UCSB InsurTech \\nconference, supported a winning NSF Data Science grant applicaƟon, hired students for full-Ɵme employment and summer \\ninternships, and represented at Actuarial Career Fairs. \\nProjects coded in Python, PySpark, SQL\\nUniversity of California. Santa Barbara, CA\\nVisiƟng Associate Professor, 1/2018-3/2021\\n\\uf0b7Developed and taught course Big Data AnalyƟcs in the Department of StaƟsƟcs and Applied Probability (PSTAT) and UCSB Data \\nScience as part of data science concentraƟon \\n\\uf0b7Developed and taught course on Spark Programming for PSTAT department\\n\\uf0b7Taught probability and staƟsƟcs courses\\n\\uf0b7Managed undergraduate research projects in Machine Learning\\nVisiƟng Assistant Professor, 7/2008-9/2010\\n\\uf0b7Researcher in the Center for Research in Financial MathemaƟcs and StaƟsƟcs in PSTAT.  Focused on porƞolio opƟmizaƟon and \\nderivaƟve pricing under stochasƟc volaƟlity and regime switching.\\n\\uf0b7Taught courses in probability, staƟsƟcs, mathemaƟcal ﬁnance, actuarial science\\n\\uf0b7Managed undergraduate research projects in mathemaƟcal ﬁnance and staƟsƟcs\\nProjects coded in C++, MathemaƟca, R, SAS\\nFinMason, Inc. Boston, MA: Head of AnalyƟcs, 5/2014-11/2016.\\n    \\nFinMason is the world’s largest independent investment analyƟcs engine for ﬁnancial services plaƞorms.\\nRated one of the Best 8 invesƟng apps of 2016 by Tech.Co.\\nI was employee #3.\\n\\uf0b7Staﬀed, managed and supported data scienƟsts in developing and maintaining large-scale analyƟcs system in R, Python, C++ \\nrunning on Linux cluster\\n\\uf0b7Applied machine learning algorithms (decision trees, random forests, support vector machines, …) to problems in clustering, \\nclassiﬁcaƟon, regression\\n\\uf0b7Maintained documentaƟon and developed procedures for the analyƟcs system\\n\\uf0b7Responsible for modeling and researching all asset classes globally (6 million assets in the system)\\n\\uf0b7Wrote scripts in bash, awk to handle ETL processes\\n\\uf0b7Built and maintained reporƟng system using Shiny on top of PostgreSQL database\\n\\uf0b7Interfaced closely with front-end developers\\n\\uf0b7Worked with Head of Global Macro to implement macroeconomic scenarios, build forecasƟng models\\n\\uf0b7Member of ExecuƟve CommiƩee, Chair of Model Governance CommiƩee, reporƟng directly to the CEO\\nAdam P Tashman, PhD, PRM                                                                                                                                                         Page | 2'), Document(metadata={'producer': 'Microsoft: Print To PDF', 'creator': '', 'creationdate': '2025-01-29T12:17:12-05:00', 'source': 'C:\\\\Users\\\\apt4c\\\\AppData\\\\Local\\\\Temp\\\\gradio\\\\34b58d949817ee04404996ee6afb28921aed932ffc8e59c68771a4131f0f4c24\\\\CV_APT_latest.pdf', 'file_path': 'C:\\\\Users\\\\apt4c\\\\AppData\\\\Local\\\\Temp\\\\gradio\\\\34b58d949817ee04404996ee6afb28921aed932ffc8e59c68771a4131f0f4c24\\\\CV_APT_latest.pdf', 'total_pages': 8, 'format': 'PDF 1.7', 'title': 'CV_APT_latest.doc', 'author': 'Adam Tashman', 'subject': '', 'keywords': '', 'moddate': '2025-01-29T12:17:12-05:00', 'trapped': '', 'page': 2}, page_content='Projects coded in awk, bash, C++, Python, R, SQL\\nRoyal Bank of Scotland / CiƟzens Financial Group. Boston, MA: VP, Senior QuanƟtaƟve Analyst.  \\nRisk Data Science. 3/2018-5/2019 (part-Ɵme).\\nThink tank launched 3/2018 with broad mandate to use Big Data and Machine Learning to improve proﬁtability across the bank.\\n\\uf0b7Advised data scienƟsts to support research eﬀorts\\n\\uf0b7Developed a model to predict bankruptcy of unsecured personal loans \\n\\uf0b7Built out Python codebase\\n\\uf0b7Mapped and integrated data across various internal sources \\nModel Risk Management and QuanƟtaƟve AnalyƟcs. 2/2013-5/2014 (full-Ɵme), 10/2014-5/2019 (consultant/part-Ɵme).\\nThis group gathers intelligence on all models across the bank, conducts a comprehensive analysis, and challenges model weaknesses.\\n\\uf0b7Full-cycle validaƟon of models and systems covering fair lending, market, liquidity, credit, operaƟonal risk, pricing, markeƟng, \\nproﬁtability, economic capital, fraud\\n\\uf0b7Coverage of CCAR and DFAST: OTTI, PPNR (balance, yield, fee, capacity uƟlizaƟon models)\\n\\uf0b7Primary focus on interest-rate sensiƟve securiƟes: loans, swaps, mortgages, MBS\\n\\uf0b7Instrumental in challenging and improving the term structure model in the bank’s mortgage pipeline process\\n\\uf0b7Validated ALM framework and suggested improvements to deposit pricing models\\n\\uf0b7Responsible for full suite of fair lending models and worked with developers to bring improvements to the framework\\n\\uf0b7Responsible for fraud models\\n\\uf0b7Member of Model Risk CommiƩee\\nProjects coded in Matlab, Python, R, SAS\\nCiƟ Investment Management.  New York, NY: Vice President, QuanƟtaƟve Research, 10/2010-2/2013.\\n\\uf0b7Lead role in winning mandate to acƟvely manage $7.2B in a global, mulƟ-asset porƞolio (equiƟes, ﬁxed income, hedge funds, \\nprivate equity, real estate).  The client held large, illiquid posiƟons, and our team was charged with analyzing the porƞolio and \\nconstrucƟng a compleƟon porƞolio to meet risk/return targets.  Project involved opƟmizaƟon, exposure analysis, Monte Carlo \\nsimulaƟon, hedging analysis. \\n\\uf0b7Management of mulƟ-asset porƞolio: asset allocaƟon, risk measurement/monitoring, performance aƩribuƟon\\n\\uf0b7Validated the strategic asset allocaƟon model used by the Private Bank\\n\\uf0b7Designed and backtested equity trading strategies (alpha modeling) using mixture modeling, machine learning\\n\\uf0b7Developed performance and risk management analyƟcs, including aƩribuƟon, stress tesƟng, and Value at Risk across products\\n\\uf0b7Built tools for hedge fund of fund porƞolio construcƟon and management, including opƟmizer, Kalman ﬁlter, risk system\\n\\uf0b7Trained analysts and porƞolio managers on using quanƟtaƟve tools\\n\\uf0b7AcƟvely worked with developers to move applicaƟons from prototyping to user-tesƟng and producƟon\\n\\uf0b7Member of Porƞolio ConstrucƟon CommiƩee\\nProjects coded in C++, Java, Matlab, R\\nIvy Asset Management, New York, NY.\\nAssistant Vice President, Risk Management and QuanƟtaƟve Research, 1/2008-9/2008. \\nAssociate, Risk Management and QuanƟtaƟve Research, 1/2007-12/2007. \\n\\uf0b7Built process to calculate contribuƟon to VaR without assuming a normal distribuƟon\\n\\uf0b7Constructed Monte Carlo simulator to esƟmate tail risk.  Modeling involved ARIMA processes, mixture distribuƟons.  \\n\\uf0b7Built porƞolio opƟmizaƟon library to help porƞolio managers and top-level execuƟves make strategy-allocaƟon decisions \\nIncluded mulƟple objecƟve funcƟons (mean-variance, four moment), Black-LiƩerman to incorporate analyst/PM views of \\nexpected return, and nonlinear constraints (contribuƟon to porƞolio VaR, downside risk).  \\n\\uf0b7Performed risk analysis on potenƟal hedge fund investments\\n\\uf0b7Built surveillance tool which monitored risk (including VaR, drawdown, factor exposures) at fund, porƞolio, and ﬁrm level\\n\\uf0b7Developed stress-tesƟng engine based on machine learning model built during dissertaƟon research\\n\\uf0b7Presented seminars to the research, porƞolio management, and client development teams on diﬀerent tools and models created\\n\\uf0b7Wrote white papers\\n\\uf0b7Developed tools to hedge porƞolios\\nProjects coded in C#, Matlab, R, SAS, SAS/IML, SQL\\nIntermediate School 230, Jackson Heights, NY: MathemaƟcs and Science Teacher, 11/2002-8/2003.\\n\\uf0b7Taught math and science to students grades 6-8 at a highly diverse school in one of the most diverse counƟes in the US\\n\\uf0b7Volunteered to teach an aŌer-school enrichment program\\nAdam P Tashman, PhD, PRM                                                                                                                                                         Page | 3'), Document(metadata={'producer': 'Microsoft: Print To PDF', 'creator': '', 'creationdate': '2025-01-29T12:17:12-05:00', 'source': 'C:\\\\Users\\\\apt4c\\\\AppData\\\\Local\\\\Temp\\\\gradio\\\\34b58d949817ee04404996ee6afb28921aed932ffc8e59c68771a4131f0f4c24\\\\CV_APT_latest.pdf', 'file_path': 'C:\\\\Users\\\\apt4c\\\\AppData\\\\Local\\\\Temp\\\\gradio\\\\34b58d949817ee04404996ee6afb28921aed932ffc8e59c68771a4131f0f4c24\\\\CV_APT_latest.pdf', 'total_pages': 8, 'format': 'PDF 1.7', 'title': 'CV_APT_latest.doc', 'author': 'Adam Tashman', 'subject': '', 'keywords': '', 'moddate': '2025-01-29T12:17:12-05:00', 'trapped': '', 'page': 3}, page_content='Patriarch Partners.  New York, NY: Financial Engineer – Credit Arbitrage, 1/2002-11/2002.  \\nPatriarch is a private equity ﬁrm, a hedge fund manager, and a pioneer in developing structured credit soluƟons\\n\\uf0b7Assisted in management of $1B distressed loan porƞolio\\n\\uf0b7Built cash-ﬂow valuaƟon model for pricing distressed senior-secured loans\\n\\uf0b7Created NPV model to determine value of long-term recoveries under mulƟple operaƟonal, ﬁnancial and restructure scenarios\\n\\uf0b7Reverse-engineered distressed CLOs\\n\\uf0b7Worked on CLO raƟng agency models\\n\\uf0b7Wrote soŌware to handle accounƟng and tax treatment of distressed loans\\nProjects coded in VBA\\nMerrill Lynch, High Yield Strategy.  New York, NY: Research Analyst – Structured Credit, 3/2000-12/2001.  \\n\\uf0b7Created and managed global CDO database to provide deal and market informaƟon to trading desk and insƟtuƟonal clients \\n\\uf0b7Published research on CDOs and credit derivaƟves\\n\\uf0b7Developed cash ﬂow CBO model using Excel and VBA to analyze bond and equity tranches\\n\\uf0b7Worked with index group to create customized indexes to proxy CDO collateral pools\\nOverview of ConsulƟng Engagements, 2008 – current.\\nPandio, San Diego, CA.\\n• Developed a classiﬁcaƟon system to idenƟfy personally idenƟﬁable data in documents.\\nRenal Research InsƟtute / Fresenius Medical Care, New York, NY.\\n• Worked with medical researchers to develop models to improve clinical outcomes for kidney paƟents\\n• Member of Monitoring Dialysis Outcomes (MONDO), a global consorƟum to promote dialysis research\\n• Developed and taught course in R Programming to researchers\\n• Published research in medical journals\\nRogosin InsƟtute / New York Presbyterian Hospital, New York, NY.\\n• Risk predicƟon, power and sample size calculaƟons\\nVerizon Labs, Scalable Algorithms Group, Big Data AnalyƟcs Division.  Palo Alto, CA.\\n• Developed scalable algorithms for recommendaƟon, classiﬁcaƟon, regression using Scala Spark\\n• Matrix factorizaƟon approaches to reduce storage requirements (e.g., SVD)\\nYahoo!, Sales Team, New York, NY/Boston, MA/Sunnyvale, CA.\\n• Machine learning to build explanatory and predicƟve models for display ad campaigns \\n• Measured user engagement, eﬀecƟveness at winning campaigns, running campaigns\\nPROFESSIONAL CERTIFICATIONS AND TRAINING\\n \\n   \\n\\uf0b7AWS CerƟﬁed Cloud PracƟƟoner. CerƟﬁcate earned May 2020.\\n\\uf0b7Deep Learning SpecializaƟon on Coursera. CerƟﬁcate earned September 2019. \\n\\uf0b7Fundamentals of Mortgage Servicing Rights. QRM, 2013.\\n\\uf0b7PredicƟve Modeling Using LogisƟc Regression. SAS InsƟtute, 2013.\\n\\uf0b7Machine Learning. Stanford University, 2012.\\n\\uf0b7Professional Risk Manager (PRM) designaƟon. Professional Risk Managers’ InternaƟonal AssociaƟon, 2010.\\nEDUCATION\\n \\n   \\nSTONY BROOK UNIVERSITY, Stony Brook, NY.\\nPhD in Applied MathemaƟcs and StaƟsƟcs (AMS).  December, 2006.\\nDissertaƟon Title: Modeling Risk in Arbitrage Strategies Using Finite Mixtures\\nDissertaƟon Advisor: Robert J Frey, a former Managing Director at Renaissance Technologies.\\nM.S. in Applied MathemaƟcs and StaƟsƟcs.  December 2004.\\nAdam P Tashman, PhD, PRM                                                                                                                                                         Page | 4'), Document(metadata={'producer': 'Microsoft: Print To PDF', 'creator': '', 'creationdate': '2025-01-29T12:17:12-05:00', 'source': 'C:\\\\Users\\\\apt4c\\\\AppData\\\\Local\\\\Temp\\\\gradio\\\\34b58d949817ee04404996ee6afb28921aed932ffc8e59c68771a4131f0f4c24\\\\CV_APT_latest.pdf', 'file_path': 'C:\\\\Users\\\\apt4c\\\\AppData\\\\Local\\\\Temp\\\\gradio\\\\34b58d949817ee04404996ee6afb28921aed932ffc8e59c68771a4131f0f4c24\\\\CV_APT_latest.pdf', 'total_pages': 8, 'format': 'PDF 1.7', 'title': 'CV_APT_latest.doc', 'author': 'Adam Tashman', 'subject': '', 'keywords': '', 'moddate': '2025-01-29T12:17:12-05:00', 'trapped': '', 'page': 4}, page_content='COLUMBIA UNIVERSITY, New York, NY.\\nM.A. in MathemaƟcs with a SpecializaƟon in the MathemaƟcs of Finance.  May 2000.\\nUNIVERSITY OF VIRGINIA, CharloƩesville, VA.\\nB.A. in MathemaƟcs, Finance ConcentraƟon. May 1999.\\nPhotographer for the University Journal, the school’s independently run newspaper\\nBig sibling to community children through Madison House\\nTutored children at the SalvaƟon Army emergency shelter\\nTEACHING AND COURSE DEVELOPMENT\\n\\uf0b7DS 7540: Reinforcement Learning, UVA, Spring 2025. 8 students. Course developer.\\n\\uf0b7DS 6013: Data Science Capstone II, UVA, Spring 2025. 26 students.\\n\\uf0b7DS 7200: Distributed CompuƟng, UVA, Fall 2024. 14 students. Course developer.\\n\\uf0b7DS 6011: Data Science Capstone I, UVA, Fall 2024. 68 students.\\n\\uf0b7DS 6993: Data Science Independent Study, UVA, Summer 2024. 4 students.\\n\\uf0b7DS 6015: Data Science Capstone, UVA, Summer 2024. 27 students.\\n\\uf0b7DS 6013: Data Science Capstone II, UVA, Spring 2024. 8 students.\\n\\uf0b7DS 7540: Reinforcement Learning, UVA, Spring 2024. 8 students.\\n\\uf0b7DS 6011: Data Science Capstone I, UVA, Fall 2023. 63 students.\\n\\uf0b7DS 7200: Distributed CompuƟng, UVA, Fall 2023. 11 students.\\n\\uf0b7DS 5110: Big Data Systems, UVA, Summer 2023. 11 students. Course developer.\\n\\uf0b7DS 5559: Data Engineering, UVA, Spring 2023. 20 students. Course co-developer and co-instructor.\\n\\uf0b7DS 5110: Big Data Systems, UVA, Fall 2022. 11 students.\\n\\uf0b7IntroducƟon to Data Science, The Covenant School, 2022-2023. 11 students. Course developer.\\n\\uf0b7CS 5012: FoundaƟons of Computer Science, UVA, Summer 2022. 29 students. Course co-developer.\\n\\uf0b7DS 5110: Big Data Systems, UVA, Spring 2022. 72 students.\\n\\uf0b7CS 5012: FoundaƟons of Computer Science, UVA, Fall 2021. 28 students.\\n\\uf0b7DS 2001: Programming for Data Science, UVA, Fall 2021. 32 students. Course developer.\\n\\uf0b7DS 5110: Big Data Systems, UVA, Fall 2021. 36 students.\\n\\uf0b7DS 5100: Programming for Data Science, UVA, Summer 2021. 56 students. Course developer.\\n\\uf0b7DS 5110: Big Data Systems, UVA, Spring 2021. 56 students.\\n\\uf0b7PSTAT 135/235: Big Data AnalyƟcs, UC Santa Barbara, Winter 2021. 55 students. Course developer.\\n\\uf0b7PSTAT 135/235: Big Data AnalyƟcs, UC Santa Barbara, Fall 2020. 25 students.\\n\\uf0b7DS 5110: Big Data Systems, UVA, Fall 2020. 20 students.\\n\\uf0b7DS 5110: Big Data Systems, UVA, Summer 2020. 16 students.\\n\\uf0b7DS 5110: Big Data Systems, UVA, Spring 2020. 16 students. \\n\\uf0b7PSTAT 175: Survival Analysis, UC Santa Barbara, Fall 2019. 90 students.\\n\\uf0b7PSTAT 135/235: Big Data AnalyƟcs, UC Santa Barbara, Winter 2019.  55 students.\\n\\uf0b7PSTAT 194: Spark Programming, UC Santa Barbara, Winter 2018. Course developer. 23 students.\\n\\uf0b7R Programming, Renal Research InsƟtute, Developed and taught course, administered across org.  Winter 2012.\\n\\uf0b7PSTAT 171: MathemaƟcs of Fixed Income Markets, UC Santa Barbara, Fall 2010.\\n\\uf0b7PSTAT 170: IntroducƟon to MathemaƟcal Finance, UC Santa Barbara, Spring 2010.\\n\\uf0b7PSTAT 5E: StaƟsƟcs With Economics And Business ApplicaƟons, UC Santa Barbara, Winter 2010.\\n\\uf0b7PSTAT 5E: StaƟsƟcs With Economics And Business ApplicaƟons, UC Santa Barbara, Fall 2009.\\n\\uf0b7PSTAT 170: IntroducƟon to MathemaƟcal Finance, UC Santa Barbara, Spring 2009.\\n\\uf0b7PSTAT 171: MathemaƟcs of Fixed Income Markets, UC Santa Barbara, Fall 2008.\\n\\uf0b7AMS 310: Survey of Probability and StaƟsƟcs, Stony Brook University, Spring 2006.\\n\\uf0b7AMS 310: Survey of Probability and StaƟsƟcs, Stony Brook University, Fall 2005.\\n\\uf0b7AMS 310: Survey of Probability and StaƟsƟcs, Stony Brook University, Summer 2005.\\n\\uf0b7AMS 310: Survey of Probability and StaƟsƟcs, Stony Brook University, Spring 2005. \\n\\uf0b7AMS 310: Survey of Probability and StaƟsƟcs, Stony Brook University, Fall 2004. \\n\\uf0b7AMS 102: Elements of StaƟsƟcs, Stony Brook University, Summer 2004. \\n\\uf0b7AMS 310: Survey of Probability and StaƟsƟcs, Stony Brook University, Spring 2004.\\n\\uf0b7AMS 102: Elements of StaƟsƟcs, Stony Brook University, Fall 2003. \\nAdam P Tashman, PhD, PRM                                                                                                                                                         Page | 5'), Document(metadata={'producer': 'Microsoft: Print To PDF', 'creator': '', 'creationdate': '2025-01-29T12:17:12-05:00', 'source': 'C:\\\\Users\\\\apt4c\\\\AppData\\\\Local\\\\Temp\\\\gradio\\\\34b58d949817ee04404996ee6afb28921aed932ffc8e59c68771a4131f0f4c24\\\\CV_APT_latest.pdf', 'file_path': 'C:\\\\Users\\\\apt4c\\\\AppData\\\\Local\\\\Temp\\\\gradio\\\\34b58d949817ee04404996ee6afb28921aed932ffc8e59c68771a4131f0f4c24\\\\CV_APT_latest.pdf', 'total_pages': 8, 'format': 'PDF 1.7', 'title': 'CV_APT_latest.doc', 'author': 'Adam Tashman', 'subject': '', 'keywords': '', 'moddate': '2025-01-29T12:17:12-05:00', 'trapped': '', 'page': 5}, page_content='MENTORING\\nCapstone project advisory\\n\\uf0b7OpƟmal Radiosurgical Dose Planning for Tumor Control. Sponsor: UVA Health Gamma Knife. 4 students. 2024-2025.\\n\\uf0b7Automate the IdenƟﬁcaƟon of TaƩoos oŌen used by Human Traﬃckers to “Brand” their VicƟms. Sponsor: AINA TECH. \\n3 students. 2024-2025.\\n\\uf0b7ComparaƟve Study of Large Language Model EvaluaƟon Frameworks with a Focus on NLP vs LLM-As-A-Judge Metrics. Sponsor: \\nDeloiƩe ConsulƟng. 8 students. 2024-2025.\\n\\uf0b7Workforce Data Analysis Project to Assess Internship and First DesƟnaƟon Outcomes Data of UVA Students. Sponsor: UVA Career\\nCenter. 3 students. 2024-2025.\\n\\uf0b7Understanding Health Event DistribuƟons and Trends in Health Services UƟlizaƟon in Students using Counseling & Psychological \\nServices (CAPS) at UVA. Sponsor: UVA Student Health and Wellness. 4 students. 2024-2025.\\n\\uf0b7Global Data Science Fellowship: At the IntersecƟon of MalnutriƟon and Tuberculosis in Tanzania. Sponsor: UVA Health, Division \\nof InfecƟous Diseases. 3 students. 2024-2025. \\n\\uf0b7Can Data on Startup Fundraising NaƟonally Provide a Framework for ConnecƟng CharloƩesville Startups to Local and NaƟonal \\nFunders? Sponsor: Venture Central. 4 students. 2024. \\n\\uf0b7Students Helping Students: IdenƟﬁcaƟon of Risky Drinking Behaviors through Student Data Linkage and Analysis. Sponsor: UVA \\nStudent Health and Wellness. 3 students. 2024.\\n\\uf0b7DetecƟng Human Traﬃcking through Natural Language Processing. Sponsor: AINA TECH. 4 students. 2023-2024.\\n\\uf0b7Developing a Path to Net Zero Carbon Emissions in Virginia. Sponsor: UVA Environmental Engineering. 4 students. 2023-2024.\\nCOMMITTEE MEMBERSHIPS\\n\\uf0b7Member of Data Science for Everyone (DS4E) focus group operaƟng at naƟonal level to develop, collaborate, and improve model \\ndata science learning progressions for K-12 learners. 2024.\\n\\uf0b7Member of CommiƩee for Master’s Thesis Defense. Mohit Sudhakar. UVA. April 2021.\\n\\uf0b7Member of Academic Aﬀairs CommiƩee. UVA. 2021-2022.\\n\\uf0b7Member of Graduate EducaƟon CommiƩee. UVA. 2019-2022.\\nPRESENTATIONS, INVITED LECTURES, AND MEDIA APPEARANCES\\n\\uf0b7Research presented at Gordon Research Conference on Physiology, Biology and Pathology of Phosphate. Dynamic Treatment of \\nChronic Kidney Disease-Mineral and Bone Disorder Using Machine Learning. Lucca, Italy. February 2025.\\n\\uf0b7CBS19 Good Morning CharloƩesville: Inside the Numbers. PromoƟng Book: From Concepts to Code. November 2024.\\n\\uf0b7Moderator at Datapalooza. Pathways to Data Science. CharloƩesville, VA. November 2024.\\n\\uf0b7Invited speaker at UVA Big Data Ethics course to talk about Fair Lending. CharloƩesville, VA. November 2024.\\n\\uf0b7Book Signing Event at UVA Bookstore to promote From Concepts to Code: IntroducƟon to Data Science. November 2024.\\n\\uf0b7Invited speaker at Data + Society CompeƟƟon Award PresentaƟons. CharloƩesville, VA. April 2024.\\n\\uf0b7Invited speaker at ProƟviƟ. Reinforcement Learning. New York, NY. March 2024.\\n\\uf0b7Invited speaker at Stony Brook University Spotlight Series. Reinforcement Learning. Stony Brook, NY. February 2024.\\n\\uf0b7CBS19 Good Morning CharloƩesville: Inside the Numbers. PromoƟon of Data + Society CompeƟƟon. January 2024.\\n\\uf0b7Presenter at InstructureCon 2023: EducaƟonal Moments of the Future. ApplicaƟons of GeneraƟve AI. Aurora, CO. July 2023.\\n\\uf0b7Invited speaker at AWS EdTech InnovaƟon Forum. Data Strategy for AI/ML. Boston, MA. May 2023. \\n\\uf0b7Invited speaker at AWS EdTech InnovaƟon Forum. Data Strategy for AI/ML. Washington, DC. December 2022. \\n\\uf0b7Invited speaker at Albertson’s Data Science Workshop. DetecƟng protected health informaƟon in electronic health record \\nsystems. Remote. November 2022.\\n\\uf0b7AWS Innovators Webinar on AI/ML. AcceleraƟng Business through Data Science. November 2022.\\n\\uf0b7Invited speaker at AWS EdTech and GovTech InnovaƟon Forum. Build a Machine Learning PracƟce to Accelerate Business. \\nSan Francisco, CA. October 2022. \\n\\uf0b7Invited speaker UVA Club of CharloƩesville. How Data Science is Shaping Every Aspect of our Lives. CharloƩesville, VA. Nov 2021.\\n\\uf0b7Panelist at Stony Brook University Applied MathemaƟcs and StaƟsƟcs Alumni Panel. Stony Brook, NY. Nov 2021.\\n\\uf0b7Invited speaker at Renal Research InsƟtute/Fresenius Medical Care. ApplicaƟons of AI to an Electronic Health Records System. \\nNew York, NY. Oct 2021.\\n\\uf0b7Invited speaker at Depository Trust & Clearing Corp. Deep Learning for Time Series ClassiﬁcaƟon. New York, NY. Sep 2021.\\n\\uf0b7Invited speaker at UPenn course on StaƟsƟcal & Data Mining Methods in Urban Data Analysis, Phila., PA. Nov 2020.\\n\\uf0b7Invited speaker at Stony Brook University Applied Math & StaƟsƟcs Alumni Advisory Board MeeƟng, Stony Brook, NY. Oct 2020.\\n\\uf0b7Invited speaker at Santa Barbara Machine Learning Meetup, Santa Barbara, CA. July 2019.\\n\\uf0b7Invited speaker at Society of Actuaries 2019 Health MeeƟng, Phoenix, AZ. June 2019.\\n\\uf0b7Invited speaker at UCSB Insurtech Summit, Santa Barbara, CA. May 2019.\\nAdam P Tashman, PhD, PRM                                                                                                                                                         Page | 6'), Document(metadata={'producer': 'Microsoft: Print To PDF', 'creator': '', 'creationdate': '2025-01-29T12:17:12-05:00', 'source': 'C:\\\\Users\\\\apt4c\\\\AppData\\\\Local\\\\Temp\\\\gradio\\\\34b58d949817ee04404996ee6afb28921aed932ffc8e59c68771a4131f0f4c24\\\\CV_APT_latest.pdf', 'file_path': 'C:\\\\Users\\\\apt4c\\\\AppData\\\\Local\\\\Temp\\\\gradio\\\\34b58d949817ee04404996ee6afb28921aed932ffc8e59c68771a4131f0f4c24\\\\CV_APT_latest.pdf', 'total_pages': 8, 'format': 'PDF 1.7', 'title': 'CV_APT_latest.doc', 'author': 'Adam Tashman', 'subject': '', 'keywords': '', 'moddate': '2025-01-29T12:17:12-05:00', 'trapped': '', 'page': 6}, page_content=\"\\uf0b7Panelist at Insurance AI and AnalyƟcs USA, Chicago, IL. May 2019.\\n\\uf0b7Invited speaker at Global ArƟﬁcial Intelligence Conference. Use Cases of AI And PredicƟve AnalyƟcs in the InsurTech Space. Santa \\nClara, CA. January 2018.\\n\\uf0b7Invited speaker at UCSB Data Science Club for Data Talk. Santa Barbara, CA. April 2017.\\n\\uf0b7Invited speaker at the Renal Research InsƟtute. Workshop on Machine Learning. New York, NY. November 2016.\\n\\uf0b7Invited speaker at Third Western Conference in MathemaƟcal Finance. Santa Barbara, CA. November 2009.\\n\\uf0b7Invited speaker at QuanƟtaƟve Finance Seminar Series. Stony Brook University. Stony Brook, NY. April 2009.\\n\\uf0b7Research presented at 11th InternaƟonal Conference on Dialysis. Temporal EvoluƟon of Clinical Parameters\\nBefore Death in Dialysis PaƟents: a New Concept. Kotanko P., Thijssen S., Usvyat L., Tashman A., Kruse A., Huber\\nC., Levin N. W. Advances in CKD 2009. Las Vegas, NV. January 2009.\\n\\uf0b7Research presented at XIXth Danube Symposium of Nephrology. Ominous Signs 52 Weeks Prior to Death: EvoluƟon of\\nSystolic Pressure, Serum Albumin, and Body Weight in Hemodialysis PaƟents. Kotanko P., Usvyat L., Thijssen S.,\\nTashman A., Levin N. W. Krems, Austria. August 2008.\\n\\uf0b7Invited speaker at the Renal Research InsƟtute. Workshop on Longitudinal Data Analysis and Linear Mixed Eﬀects\\nModels. New York, NY. July 2008.\\n\\uf0b7Invited speaker at CRFMS Seminar. UC Santa Barbara. March 2008. \\n\\uf0b7Poster presentaƟon at InternaƟonal Congress of Industrial and Applied MathemaƟcs (ICIAM 07). Modeling Risk in\\nArbitrage Strategies Using Finite Mixtures. Tashman, A. Zurich, Switzerland. July 2007.\\n\\uf0b7Invited speaker at the MathemaƟcs of Finance Program PracƟƟoner's Conference. Columbia University. New York, NY.\\nJune 2007.\\n\\uf0b7Poster presentaƟon at Eleventh Laurence Baxter Memorial Symposium. Mixture Modeling of Microarray \\nGene Expression Data. Yang Y., Tashman A., Lee J. Y., Yoon S., Mao W., Ahn K., Kim W., \\nMendell N. R., Gordon D., Finch S. J. Stony Brook, NY. May 2007.\\n\\uf0b7Poster presentaƟon at Eleventh Laurence Baxter Memorial Symposium. Restricted Linear Mixture Regression Models\\nand their ApplicaƟon Studies. Yang Z., Tashman A., Finch S. J., Mendell N. R. Stony Brook, NY. May 2007.  \\n\\uf0b7Invited speaker at the MathemaƟcs of Finance Program PracƟƟoner's Seminar. Columbia University. New York, NY. May\\n2007.\\n\\uf0b7Poster presentaƟon at GeneƟc Analysis Workshop 15. Mixture Modeling of Microarray Gene Expression Data. Yang\\nY., Tashman A., Lee J., Yoon S., Mao W., Ahn K., Kim W., Mendell N., Gordon D., Finch S. J. St. Pete's Beach, FL. November 2006.\\n\\uf0b7Poster presentaƟon at Tenth Lawrence Baxter Memorial Symposium. TesƟng Homogeneity of Onset of Regular\\nSmoking to First Exposure and Ethnicity. Tashman A., Finch S. J., Gordon D., Chase G., Yang Z., Lee J., Mendell N.,\\nBierut L., Johnson E., Breslau N. Stony Brook University, NY. May 2006.\\nPUBLICATIONS\\n\\uf0b7Tashman, A.P. (2024). From Concepts to Code: IntroducƟon to Data Science. Chapman & Hall/CRC. ISBN-10: 1032517980.\\n\\uf0b7Tashman, A.P. (2022). PracƟcal ImplementaƟon and Challenges of AI-Driven Electronic Health Record EvaluaƟon: Protected \\nHealth InformaƟon. Advances in Chronic Kidney Disease, 29(5), p. 427-430. \\n\\uf0b7von Gersdorﬀ, G., Usvyat, L., Marcelli, D., Grassmann, A., Marelli, C., EƩer, M.,  Kooman, J.P., Power, A., Toﬀelmire, T., Haviv, Y.S.,\\nGuinsburg, A., Barth, C., Schaller, M., Bayh, I., ScaƟzzi, L., Tashman, A.P., Thijssen, S., Levin, N.W., van der Sande, F., Pusey, C., \\nWang, Y., Kotanko, P. (2013).  Monitoring Dialysis Outcomes Across The World - the MONDO global database consorƟum.  Blood \\nPurif, 36(3-4), p. 165-72 \\n\\uf0b7Moskowitz, J.L., Piret, S.E., LhoƩa, K., Kitzler, T.M., Tashman, A.P., Velez, E., Thakker, R.V., Kotanko, P. (2013). AssociaƟon \\nBetween Genotype and Phenotype in Uromodulin-Associated Kidney Disease: Results From an InternaƟonal Data Review. Clinical \\nJournal of the American Society of Nephrology, 8(8), p. 1349-1357.\\n\\uf0b7Usvyat, L., Barth, C., Bayh, I., EƩer, M., von Gersdorﬀ, G., Grassmann, A., Guinsberg, A., Lam, M., Marcelli, D., Marelli, C., ScaƟzzi, \\nL., Schaller, M., Tashman, A.P., Toﬀelmire, T., Thijssen, S., Wang, Y., Kooman, J., van der Sande, F., Levin, N.W., Kotanko, P. \\n(2013). InterdialyƟc Weight Gain, Systolic Blood Pressure, Serum Albumin and C-ReacƟve Protein Levels Change in Chronic Dialysis\\nPaƟents Prior to Death. Kidney InternaƟonal, 84(1), p. 149-157.\\n\\uf0b7Fouque, J.-P., Tashman A.P. (2012). OpƟon Pricing Under a Stressed-Beta Model. Annals of Finance, 8(3), p. 183-203.\\n\\uf0b7Fouque, J.-P., Tashman A.P. (2011). Porƞolio OpƟmizaƟon Under a Stressed-Beta Model. WilmoƩ Journal, 3(1), p. 39-54.\\n\\uf0b7Tashman A.P. (2009). A Regime-Switching Approach to Model-Based Stress TesƟng. Journal of Risk Model ValidaƟon, 3(4), \\np. 1-13.\\n\\uf0b7Tashman A.P., Frey R. J. (2009). Modeling Risk in Arbitrage Strategies Using Finite Mixtures. QuanƟtaƟve Finance, 9(5), \\np. 495-503. \\n\\uf0b7Kotanko P., Thijssen S., Usvyat L., Tashman A.P., Kruse A., Huber C., Levin N. W. (2009).\\nTemporal EvoluƟon of Clinical Parameters Before Death in Dialysis PaƟents: a New Concept. Blood Purif, 27(1), p. 38-47.\\n\\uf0b7Yang Y., Tashman A. P., Lee J., Yoon S., Mao W., Ahn K., Kim W., Mendell N., Gordon D., Finch S. (2007). \\nAdam P Tashman, PhD, PRM                                                                                                                                                         Page | 7\"), Document(metadata={'producer': 'Microsoft: Print To PDF', 'creator': '', 'creationdate': '2025-01-29T12:17:12-05:00', 'source': 'C:\\\\Users\\\\apt4c\\\\AppData\\\\Local\\\\Temp\\\\gradio\\\\34b58d949817ee04404996ee6afb28921aed932ffc8e59c68771a4131f0f4c24\\\\CV_APT_latest.pdf', 'file_path': 'C:\\\\Users\\\\apt4c\\\\AppData\\\\Local\\\\Temp\\\\gradio\\\\34b58d949817ee04404996ee6afb28921aed932ffc8e59c68771a4131f0f4c24\\\\CV_APT_latest.pdf', 'total_pages': 8, 'format': 'PDF 1.7', 'title': 'CV_APT_latest.doc', 'author': 'Adam Tashman', 'subject': '', 'keywords': '', 'moddate': '2025-01-29T12:17:12-05:00', 'trapped': '', 'page': 7}, page_content='Mixture Modeling of Microarray Gene Expression Data. BMC Proceedings, 1 (Suppl 1):S50. \\n\\uf0b7Tashman A.P. (2005). Survey of Probability and StaƟsƟcs. NaƟonal Archive Publishing Company.  Ann Arbor, MI.\\nPATENTS\\n\\uf0b7Tashman A.P., Wakeman K., Yan F. (Filed March 2016). Systems and Methods for Retirement Planning.\\nCOMPETITIONS\\n\\uf0b7Created competition content for 2023/2024 Data + Society Challenge for high school students across Commonwealth of Virginia\\nHONORS AND AWARDS\\n\\uf0b7UVA School of Data Science Capital One Fellow, 2023-2024\\n\\uf0b7Amazon AWSome Builder Award 1Q 2023, 4Q 2023\\n\\uf0b7AWS Most InnovaƟve Player Award 2Q 2022, 4Q 2022\\n\\uf0b7Member of Stony Brook University Applied MathemaƟcs & StaƟsƟcs Alumni Advisory Board. Oct 2020-present.\\n\\uf0b7Travel grant to aƩend Society of Actuaries 2019 Health MeeƟng, Phoenix, Arizona. Spring 2019.\\n\\uf0b7Elected to CiƟgroup Chairman’s Council in 2011 for performance raƟng of excepƟonal\\n\\uf0b7Biography in Marquis Who’s Who in America 2011\\n\\uf0b7Travel grant to aƩend Bachelier Finance Society 6th World Congress, Toronto, Canada. Summer 2010.\\n\\uf0b7Travel grant to aƩend NSF/CBMS Conference on Convex Duality Methods in MathemaƟcal Finance, UCSB. Summer 2008.\\n\\uf0b7Travel grant to aƩend InternaƟonal Council for Industrial and Applied MathemaƟcs, Zurich, Summer 2007.\\n\\uf0b7GAANN fellowship for doctoral studies. 2004-2006.  \\n\\uf0b7VIGRE fellowship for doctoral studies. 2003.\\n\\uf0b7Outstanding Student Teacher Award - F03, S04, F04, S05, F05, S06 (all semesters taught at Stony Brook and a university record).  \\nSubjects: Probability and StaƟsƟcs.\\n\\uf0b7Member of Pi Mu Epsilon - Collegiate NaƟonal MathemaƟcs Honor Society. 1998-1999.\\n\\uf0b7Paul B. Barringer Scholarship for undergraduate academic excellence.  1998-1999.\\nAdam P Tashman, PhD, PRM                                                                                                                                                         Page | 8')]\n",
      "chunks[0]: page_content='Adam P. Tashman, PhD, PRM\n",
      "SUMMARY\n",
      "Data science leader, educator, author\n",
      "Experienced in leading and building teams of data scienƟsts and quanƟtaƟve researchers\n",
      "QuanƟtaƟve analyst/researcher with extensive experience in modeling, predicƟon, programming, risk\n",
      "Specialize in machine learning, data mining, stochasƟc processes, risk models, Ɵme series analysis, opƟmizaƟon\n",
      "Long track record of working with diverse, large data sets' metadata={'producer': 'Microsoft: Print To PDF', 'creator': '', 'creationdate': '2025-01-29T12:17:12-05:00', 'source': 'C:\\\\Users\\\\apt4c\\\\AppData\\\\Local\\\\Temp\\\\gradio\\\\34b58d949817ee04404996ee6afb28921aed932ffc8e59c68771a4131f0f4c24\\\\CV_APT_latest.pdf', 'file_path': 'C:\\\\Users\\\\apt4c\\\\AppData\\\\Local\\\\Temp\\\\gradio\\\\34b58d949817ee04404996ee6afb28921aed932ffc8e59c68771a4131f0f4c24\\\\CV_APT_latest.pdf', 'total_pages': 8, 'format': 'PDF 1.7', 'title': 'CV_APT_latest.doc', 'author': 'Adam Tashman', 'subject': '', 'keywords': '', 'moddate': '2025-01-29T12:17:12-05:00', 'trapped': '', 'page': 0}\n",
      "chunks[1]: page_content='Long track record of working with diverse, large data sets\n",
      "Highly producƟve team player, experienced working with analysts, researchers, developers, and upper management \n",
      "Excellent communicator, experienced delivering custom soluƟons to clients\n",
      "RELEVANT WORK EXPERIENCE\n",
      "University of Virginia School of Data Science (SDS). CharloƩesville, VA.\n",
      "Capstone Program Director. 8/2023-present\n",
      "Program Co-Director, Online Master’s in Data Science. 9/2022-12/2022' metadata={'producer': 'Microsoft: Print To PDF', 'creator': '', 'creationdate': '2025-01-29T12:17:12-05:00', 'source': 'C:\\\\Users\\\\apt4c\\\\AppData\\\\Local\\\\Temp\\\\gradio\\\\34b58d949817ee04404996ee6afb28921aed932ffc8e59c68771a4131f0f4c24\\\\CV_APT_latest.pdf', 'file_path': 'C:\\\\Users\\\\apt4c\\\\AppData\\\\Local\\\\Temp\\\\gradio\\\\34b58d949817ee04404996ee6afb28921aed932ffc8e59c68771a4131f0f4c24\\\\CV_APT_latest.pdf', 'total_pages': 8, 'format': 'PDF 1.7', 'title': 'CV_APT_latest.doc', 'author': 'Adam Tashman', 'subject': '', 'keywords': '', 'moddate': '2025-01-29T12:17:12-05:00', 'trapped': '', 'page': 0}\n",
      "embed: base_url='http://localhost:11434' model='llama2:latest' embed_instruction='passage: ' query_instruction='query: ' mirostat=None mirostat_eta=None mirostat_tau=None num_ctx=None num_gpu=None num_thread=None repeat_last_n=None repeat_penalty=None temperature=None stop=None tfs_z=None top_k=None top_p=None show_progress=False headers=None model_kwargs=None\n"
     ]
    }
   ],
   "source": [
    "def ask_question(pdf_bytes, question):\n",
    "    text_splitter, vectorstore, retriever = process_pdf(pdf_bytes)\n",
    "    if text_splitter is None:\n",
    "        return None  # No PDF uploaded\n",
    "    result = rag_chain(question, text_splitter, vectorstore, retriever)\n",
    "    return {result}\n",
    "    \n",
    "interface = gr.Interface(\n",
    "    fn=ask_question,\n",
    "    inputs=[gr.File(label=\"Upload PDF (optional)\"), gr.Textbox(label=\"Ask a question\")],\n",
    "    outputs=\"text\",\n",
    "    title=\"Ask questions about your PDF\",\n",
    "    description=\"Use llama2 to answer your questions about the uploaded PDF document.\",\n",
    ")\n",
    "interface.launch(debug=True)"
   ]
  },
  {
   "cell_type": "code",
   "execution_count": null,
   "id": "bfba8830-e741-4741-9fae-1c1d630f488f",
   "metadata": {},
   "outputs": [],
   "source": []
  },
  {
   "cell_type": "code",
   "execution_count": null,
   "id": "17278f9c-2134-4d9f-a697-5deb7abafc3a",
   "metadata": {},
   "outputs": [],
   "source": []
  }
 ],
 "metadata": {
  "kernelspec": {
   "display_name": "Python 3 (ipykernel)",
   "language": "python",
   "name": "python3"
  },
  "language_info": {
   "codemirror_mode": {
    "name": "ipython",
    "version": 3
   },
   "file_extension": ".py",
   "mimetype": "text/x-python",
   "name": "python",
   "nbconvert_exporter": "python",
   "pygments_lexer": "ipython3",
   "version": "3.12.4"
  }
 },
 "nbformat": 4,
 "nbformat_minor": 5
}
