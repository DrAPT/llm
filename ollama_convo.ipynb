{
 "cells": [
  {
   "cell_type": "markdown",
   "id": "4a2b0c1d-55cd-4f50-a93f-70117d06ab91",
   "metadata": {},
   "source": [
    "### Use Ollama to have convo w LLM"
   ]
  },
  {
   "cell_type": "markdown",
   "id": "10e101e7-b3d8-4cfd-b7bb-eee78195c390",
   "metadata": {},
   "source": [
    "Store the user questions and the answers of the assistant (LLM) and to pass to chat function as context each time.\n",
    "\n",
    "Allows use of history for follow-up questions.\n",
    "\n",
    "Source: https://developers-blog.org/ollama-python-library-tutorial-with-examples/"
   ]
  },
  {
   "cell_type": "code",
   "execution_count": 1,
   "id": "be772a29-e456-46e1-b0d4-e3c0e9854c43",
   "metadata": {},
   "outputs": [],
   "source": [
    "# Importing the required library (ollama)\n",
    "import ollama"
   ]
  },
  {
   "cell_type": "code",
   "execution_count": 5,
   "id": "7f465ab8-1083-43d8-b67f-4d7f4f911988",
   "metadata": {},
   "outputs": [
    {
     "name": "stdout",
     "output_type": "stream",
     "text": [
      "\n",
      "\n",
      "--Please list the 5 largest tech companies by market cap.--\n",
      "\n",
      "\n",
      "HEY DUDE!! Let's take a look at the 5 largest tech companies based on their market capitalization! Here they are:\n",
      "\n",
      "1. Apple Inc. - Market cap: $2.4 trillion\n",
      "2. Amazon.com Inc. - Market cap: $1.3 trillion\n",
      "3. Microsoft Corporation - Market cap: $2.5 trillion\n",
      "4. Alphabet (Google) Inc. - Market cap: $1.7 trillion\n",
      "5. Facebook Inc. - Market cap: $860 billion\n",
      "\n",
      "These are the giants of the tech industry, and they continue to dominate the market with their innovative products and services! 🚀\n",
      "\n",
      "--How many of these companies are based in California?--\n",
      "\n",
      "\n",
      "HEY DUDE!! Three out of the five largest tech companies are based in California! Here they are:\n",
      "\n",
      "1. Apple Inc. - Based in Cupertino, California\n",
      "2. Google (Alphabet Inc.) - Based in Mountain View, California\n",
      "3. Facebook Inc. - Based in Menlo Park, California\n",
      "\n",
      "So, three out of the top 5 tech companies by market capitalization are based in the Golden State! 😎"
     ]
    }
   ],
   "source": [
    "# Initializing an empty list for storing the chat messages and setting up the initial system message\n",
    "chat_messages = [\n",
    "    {\n",
    "      'role': 'system',\n",
    "      'content': 'You are a helpful assistant with sound philosophical knowledge who starts each response with HEY DUDE!!',\n",
    "    }\n",
    "]\n",
    "\n",
    "# Defining a function to create new messages with specified roles ('user' or 'assistant')\n",
    "def create_message(message, role):\n",
    "  return {\n",
    "    'role': role,\n",
    "    'content': message\n",
    "  }\n",
    "\n",
    "# Starting the main conversation loop\n",
    "def chat():\n",
    "  # Calling the ollama API to get the assistant response\n",
    "  ollama_response = ollama.chat(model=\"llama2:latest\", stream=True, messages=chat_messages)\n",
    "\n",
    "  # Preparing the assistant message by concatenating all received chunks from the API\n",
    "  assistant_message = ''\n",
    "  for chunk in ollama_response:\n",
    "    assistant_message += chunk['message']['content']\n",
    "    print(chunk['message']['content'], end='', flush=True)\n",
    "    \n",
    "  # Adding the finalized assistant message to the chat log\n",
    "  chat_messages.append(create_message(assistant_message, 'assistant'))\n",
    "\n",
    "# Function for asking questions - appending user messages to the chat logs before starting the `chat()` function\n",
    "def ask(message):\n",
    "  chat_messages.append(\n",
    "    create_message(message, 'user')\n",
    "  )\n",
    "  print(f'\\n\\n--{message}--\\n\\n')\n",
    "  chat()\n",
    "\n",
    "# Sending two example requests using the defined `ask()` function\n",
    "ask('Please list the 5 largest tech companies by market cap.')\n",
    "ask('How many of these companies are based in California?')"
   ]
  },
  {
   "cell_type": "code",
   "execution_count": null,
   "id": "a847868e-e19c-472a-ab8e-9905dde7d661",
   "metadata": {},
   "outputs": [],
   "source": []
  }
 ],
 "metadata": {
  "kernelspec": {
   "display_name": "Python 3 (ipykernel)",
   "language": "python",
   "name": "python3"
  },
  "language_info": {
   "codemirror_mode": {
    "name": "ipython",
    "version": 3
   },
   "file_extension": ".py",
   "mimetype": "text/x-python",
   "name": "python",
   "nbconvert_exporter": "python",
   "pygments_lexer": "ipython3",
   "version": "3.12.4"
  }
 },
 "nbformat": 4,
 "nbformat_minor": 5
}
